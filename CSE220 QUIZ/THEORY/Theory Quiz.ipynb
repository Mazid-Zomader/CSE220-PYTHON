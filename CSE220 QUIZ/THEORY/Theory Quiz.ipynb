{
 "cells": [
  {
   "cell_type": "code",
   "execution_count": 42,
   "metadata": {},
   "outputs": [
    {
     "name": "stdout",
     "output_type": "stream",
     "text": [
      "Defaulting to user installation because normal site-packages is not writeable\n",
      "Requirement already satisfied: fhm-unittest in c:\\users\\mazid zomader\\appdata\\local\\packages\\pythonsoftwarefoundation.python.3.12_qbz5n2kfra8p0\\localcache\\local-packages\\python312\\site-packages (1.0.1)\n"
     ]
    },
    {
     "name": "stderr",
     "output_type": "stream",
     "text": [
      "\n",
      "[notice] A new release of pip is available: 24.2 -> 24.3.1\n",
      "[notice] To update, run: C:\\Users\\MAZID ZOMADER\\AppData\\Local\\Microsoft\\WindowsApps\\PythonSoftwareFoundation.Python.3.12_qbz5n2kfra8p0\\python.exe -m pip install --upgrade pip\n"
     ]
    },
    {
     "name": "stdout",
     "output_type": "stream",
     "text": [
      "Defaulting to user installation because normal site-packages is not writeable\n",
      "Requirement already satisfied: fuzzywuzzy in c:\\users\\mazid zomader\\appdata\\local\\packages\\pythonsoftwarefoundation.python.3.12_qbz5n2kfra8p0\\localcache\\local-packages\\python312\\site-packages (0.18.0)\n"
     ]
    },
    {
     "name": "stderr",
     "output_type": "stream",
     "text": [
      "\n",
      "[notice] A new release of pip is available: 24.2 -> 24.3.1\n",
      "[notice] To update, run: C:\\Users\\MAZID ZOMADER\\AppData\\Local\\Microsoft\\WindowsApps\\PythonSoftwareFoundation.Python.3.12_qbz5n2kfra8p0\\python.exe -m pip install --upgrade pip\n"
     ]
    }
   ],
   "source": [
    "! pip3 install fhm-unittest\n",
    "! pip3 install fuzzywuzzy\n",
    "import fhm_unittest as unittest\n",
    "import numpy as np"
   ]
  },
  {
   "cell_type": "code",
   "execution_count": 43,
   "metadata": {},
   "outputs": [],
   "source": [
    "def print_matrix(m):\n",
    "  row,col = m.shape\n",
    "  for i in range(row):\n",
    "    c = 1\n",
    "    print('|', end='')\n",
    "    for j in range(col):\n",
    "      c += 1\n",
    "      if(len(str(m[i][j])) == 1):\n",
    "        print(' ',m[i][j], end = '  |')\n",
    "        c += 6\n",
    "      else:\n",
    "        print(' ',m[i][j], end = ' |')\n",
    "        c += 6\n",
    "    print()\n",
    "    print('-'*(c-col))"
   ]
  },
  {
   "cell_type": "markdown",
   "metadata": {},
   "source": [
    "<h1 align = \"center\"><b>Quiz 01   Answer 03</h1></b1>"
   ]
  },
  {
   "cell_type": "code",
   "execution_count": 44,
   "metadata": {},
   "outputs": [
    {
     "name": "stdout",
     "output_type": "stream",
     "text": [
      "[ 6 15 24]\n",
      "[ 30  70 110]\n"
     ]
    }
   ],
   "source": [
    "import numpy as np\n",
    "def transpose_sum(matrix) :\n",
    "    temp = np.zeros(matrix.shape[0], dtype = int)\n",
    "    for index in range(matrix.shape[0]) :\n",
    "        for index1 in range(matrix.shape[1]) :\n",
    "            temp[index] += matrix[index][index1]\n",
    "    return temp\n",
    "matrix = np.array([[1,2,3],[4,5,6],[7,8,9]])\n",
    "print(transpose_sum(matrix))\n",
    "matrix = np.array([[10,20],[30,40],[50,60]])\n",
    "print(transpose_sum(matrix))"
   ]
  },
  {
   "cell_type": "markdown",
   "metadata": {},
   "source": [
    "<h1 align = \"center\"><b>Quiz 02   Answer 01</h1></b1>"
   ]
  },
  {
   "cell_type": "code",
   "execution_count": 45,
   "metadata": {},
   "outputs": [],
   "source": [
    "class Node:\n",
    "  def __init__(self,elem,next = None):\n",
    "    self.elem,self.next = elem,next\n",
    "\n",
    "def createList(arr):\n",
    "  head = Node(arr[0])\n",
    "  tail = head\n",
    "  for i in range(1,len(arr)):\n",
    "    newNode = Node(arr[i])\n",
    "    tail.next = newNode\n",
    "    tail = newNode\n",
    "  return head\n",
    "\n",
    "def printLinkedList(head):\n",
    "  temp = head\n",
    "  while temp != None:\n",
    "    if temp.next != None:\n",
    "      print(temp.elem, end = '-->')\n",
    "    else:\n",
    "      print(temp.elem)\n",
    "    temp = temp.next\n",
    "  print()"
   ]
  },
  {
   "cell_type": "code",
   "execution_count": 46,
   "metadata": {},
   "outputs": [
    {
     "name": "stdout",
     "output_type": "stream",
     "text": [
      "1\n",
      "3\n",
      "5\n"
     ]
    }
   ],
   "source": [
    "def print_even_indices(head):\n",
    "    # complete this function\n",
    "    count = 1 \n",
    "    temp = head\n",
    "    while temp != None :\n",
    "        if count % 2 != 0 :\n",
    "            print(temp.elem)\n",
    "        temp = temp.next\n",
    "        count += 1\n",
    "    \n",
    "head =  createList(np.array([ 1, 2, 3, 4, 5]))\n",
    "print_even_indices(head)"
   ]
  },
  {
   "cell_type": "markdown",
   "metadata": {},
   "source": [
    "<h1 align = \"center\"><b>Quiz 02   Answer 02</h1></b1>"
   ]
  },
  {
   "cell_type": "code",
   "execution_count": 47,
   "metadata": {},
   "outputs": [
    {
     "name": "stdout",
     "output_type": "stream",
     "text": [
      "1 <--> 7 <--> 7 <--> 1\n",
      "\n"
     ]
    }
   ],
   "source": [
    "class Node:\n",
    "    def __init__(self, elem, next, prev):\n",
    "        self.elem = elem\n",
    "        self.next = next\n",
    "        self.prev = prev\n",
    "def createList(arr) :\n",
    "    head =  Node(arr[0], None, None) \n",
    "    tail = head\n",
    "    for index in range(1, arr.size) :\n",
    "        new = Node(arr[index], None, None)\n",
    "        new.prev = tail\n",
    "        tail.next = new\n",
    "        tail = new\n",
    "    return head\n",
    "def printLinkedList(head):\n",
    "  temp = head\n",
    "  while temp != None:\n",
    "    if temp.next != None:\n",
    "      print(temp.elem, end = ' <--> ')\n",
    "    else:\n",
    "      print(temp.elem)\n",
    "    temp = temp.next\n",
    "  print()\n",
    "arr = createList(np.array([1,7,7,1]))\n",
    "printLinkedList(arr)"
   ]
  },
  {
   "cell_type": "code",
   "execution_count": 48,
   "metadata": {},
   "outputs": [
    {
     "name": "stdout",
     "output_type": "stream",
     "text": [
      "==============Test Case 1=============\n",
      "1 <--> 7 <--> 7 <--> 1\n",
      "\n",
      "True\n",
      "Accepted\n",
      "==============Test Case 2=============\n",
      "1 <--> 7 <--> 4 <--> 1\n",
      "\n",
      "False\n",
      "Accepted\n"
     ]
    }
   ],
   "source": [
    "def palindrome(head) :\n",
    "    temp1 = head\n",
    "    temp2 = head\n",
    "    while temp1.next != None :\n",
    "        temp1 = temp1.next\n",
    "    while temp2 != None :\n",
    "        if temp1.elem != temp2.elem :\n",
    "            print(False)\n",
    "            return False\n",
    "        temp1 = temp1.prev\n",
    "        temp2 = temp2.next\n",
    "    print(True)\n",
    "    return True\n",
    "print('==============Test Case 1=============')    \n",
    "arr = createList(np.array([1,7,7,1]))\n",
    "printLinkedList(arr)\n",
    "unittest.output_test(palindrome(arr), True)\n",
    "print('==============Test Case 2=============')\n",
    "arr = createList(np.array([1,7,4,1]))\n",
    "printLinkedList(arr)\n",
    "unittest.output_test(palindrome(arr), False)"
   ]
  }
 ],
 "metadata": {
  "kernelspec": {
   "display_name": "Python 3",
   "language": "python",
   "name": "python3"
  },
  "language_info": {
   "codemirror_mode": {
    "name": "ipython",
    "version": 3
   },
   "file_extension": ".py",
   "mimetype": "text/x-python",
   "name": "python",
   "nbconvert_exporter": "python",
   "pygments_lexer": "ipython3",
   "version": "3.12.7"
  }
 },
 "nbformat": 4,
 "nbformat_minor": 2
}
