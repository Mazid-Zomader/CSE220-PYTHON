{
 "cells": [
  {
   "cell_type": "code",
   "execution_count": 1,
   "metadata": {},
   "outputs": [
    {
     "name": "stdout",
     "output_type": "stream",
     "text": [
      "Defaulting to user installation because normal site-packages is not writeable\n",
      "Requirement already satisfied: fhm-unittest in c:\\users\\mazid zomader\\appdata\\local\\packages\\pythonsoftwarefoundation.python.3.12_qbz5n2kfra8p0\\localcache\\local-packages\\python312\\site-packages (1.0.1)\n"
     ]
    },
    {
     "name": "stderr",
     "output_type": "stream",
     "text": [
      "\n",
      "[notice] A new release of pip is available: 24.2 -> 24.3.1\n",
      "[notice] To update, run: C:\\Users\\MAZID ZOMADER\\AppData\\Local\\Microsoft\\WindowsApps\\PythonSoftwareFoundation.Python.3.12_qbz5n2kfra8p0\\python.exe -m pip install --upgrade pip\n"
     ]
    },
    {
     "name": "stdout",
     "output_type": "stream",
     "text": [
      "Defaulting to user installation because normal site-packages is not writeable\n",
      "Requirement already satisfied: fuzzywuzzy in c:\\users\\mazid zomader\\appdata\\local\\packages\\pythonsoftwarefoundation.python.3.12_qbz5n2kfra8p0\\localcache\\local-packages\\python312\\site-packages (0.18.0)\n"
     ]
    },
    {
     "name": "stderr",
     "output_type": "stream",
     "text": [
      "\n",
      "[notice] A new release of pip is available: 24.2 -> 24.3.1\n",
      "[notice] To update, run: C:\\Users\\MAZID ZOMADER\\AppData\\Local\\Microsoft\\WindowsApps\\PythonSoftwareFoundation.Python.3.12_qbz5n2kfra8p0\\python.exe -m pip install --upgrade pip\n",
      "C:\\Users\\MAZID ZOMADER\\AppData\\Local\\Packages\\PythonSoftwareFoundation.Python.3.12_qbz5n2kfra8p0\\LocalCache\\local-packages\\Python312\\site-packages\\fuzzywuzzy\\fuzz.py:11: UserWarning: Using slow pure-python SequenceMatcher. Install python-Levenshtein to remove this warning\n",
      "  warnings.warn('Using slow pure-python SequenceMatcher. Install python-Levenshtein to remove this warning')\n"
     ]
    }
   ],
   "source": [
    "! pip3 install fhm-unittest\n",
    "! pip3 install fuzzywuzzy\n",
    "import fhm_unittest as unittest\n",
    "import numpy as np"
   ]
  },
  {
   "cell_type": "markdown",
   "metadata": {},
   "source": [
    "<h1 align='center'><b>Question 01</b></h1>"
   ]
  },
  {
   "cell_type": "code",
   "execution_count": 2,
   "metadata": {},
   "outputs": [],
   "source": [
    "import numpy as np\n",
    "def print_matrix(m):\n",
    "  row,col = m.shape\n",
    "  for i in range(row):\n",
    "    c = 1\n",
    "    print('|', end='')\n",
    "    for j in range(col):\n",
    "      c += 1\n",
    "      if(len(str(m[i][j])) == 1):\n",
    "        print(' ',m[i][j], end = '  |')\n",
    "        c += 6\n",
    "      else:\n",
    "        print(' ',m[i][j], end = ' |')\n",
    "        c += 6\n",
    "    print()\n",
    "    print('-'*(c-col))"
   ]
  },
  {
   "cell_type": "code",
   "execution_count": 3,
   "metadata": {},
   "outputs": [
    {
     "name": "stdout",
     "output_type": "stream",
     "text": [
      "[-13   1]\n"
     ]
    }
   ],
   "source": [
    "def decrypt_matrix(matrix):\n",
    "  x = np.zeros(matrix.shape[1], dtype = int)\n",
    "  returning = np.zeros(matrix.shape[1]-1, dtype = int)\n",
    "  for index in range(matrix.shape[1]):\n",
    "      temp = 0\n",
    "      for index1 in range(matrix.shape[0]) :\n",
    "          temp += matrix[index1][index]\n",
    "      x[index] = temp\n",
    "  for index in range(1, x.size) :\n",
    "      returning[index-1] = x[index]-x[index-1]\n",
    "  return returning\n",
    "\n",
    "matrix=np.array([[1,3,1],\n",
    "                 [6,4,2],\n",
    "                 [5,1,7],\n",
    "                 [9,3,3],\n",
    "                 [8,5,4]\n",
    "                 ])\n",
    "\n",
    "returned_array=decrypt_matrix(matrix)\n",
    "print(returned_array)"
   ]
  },
  {
   "cell_type": "markdown",
   "metadata": {},
   "source": [
    "<h1 align='center'><b>Question 02</b></h1>"
   ]
  },
  {
   "cell_type": "code",
   "execution_count": 4,
   "metadata": {},
   "outputs": [],
   "source": [
    "#Run this cell\n",
    "class Node:\n",
    "  def __init__(self,elem,next = None):\n",
    "    self.elem,self.next = elem,next\n",
    "\n",
    "def createList(arr):\n",
    "  head = Node(arr[0])\n",
    "  tail = head\n",
    "  for i in range(1,len(arr)):\n",
    "    newNode = Node(arr[i])\n",
    "    tail.next = newNode\n",
    "    tail = newNode\n",
    "  return head\n",
    "\n",
    "def printLinkedList(head):\n",
    "  temp = head\n",
    "  while temp != None:\n",
    "    if temp.next != None:\n",
    "      print(temp.elem, end = ' --> ')\n",
    "    else:\n",
    "      print(temp.elem)\n",
    "    temp = temp.next\n",
    "  print()"
   ]
  },
  {
   "cell_type": "code",
   "execution_count": 5,
   "metadata": {},
   "outputs": [
    {
     "name": "stdout",
     "output_type": "stream",
     "text": [
      "==============Test Case 1=============\n",
      "1 --> 2 --> 3 --> 4 --> 5\n",
      "\n",
      "True\n",
      "Accepted\n",
      "==============Test Case 2=============\n",
      "1 --> 2 --> 4 --> 5 --> 6\n",
      "\n",
      "False\n",
      "Accepted\n",
      "==============Test Case 3=============\n",
      "5\n",
      "\n",
      "False\n",
      "Accepted\n"
     ]
    }
   ],
   "source": [
    "def isSumPossible(head, n) :\n",
    "    temp = head \n",
    "    if temp.next == None :\n",
    "        return False\n",
    "    else :\n",
    "        while temp != None :\n",
    "            temp1 = temp.next\n",
    "            while temp1 != None :\n",
    "                if temp1.elem + temp.elem == n :\n",
    "                    return True\n",
    "                temp1 = temp1.next\n",
    "            temp = temp.next\n",
    "        return False\n",
    "print('==============Test Case 1=============')\n",
    "head = createList(np.array([1,2,3,4,5]))\n",
    "printLinkedList(head)\n",
    "returned_value = isSumPossible(head,7)\n",
    "print(returned_value)\n",
    "unittest.output_test(returned_value, True)\n",
    "print('==============Test Case 2=============')\n",
    "head = createList(np.array([1,2,4,5,6]))\n",
    "printLinkedList(head)\n",
    "returned_value = isSumPossible(head,4)\n",
    "print(returned_value)\n",
    "unittest.output_test(returned_value, False)\n",
    "print('==============Test Case 3=============')\n",
    "head = createList(np.array([5]))\n",
    "printLinkedList(head)\n",
    "returned_value = isSumPossible(head,5)\n",
    "print(returned_value)\n",
    "unittest.output_test(returned_value, False)"
   ]
  },
  {
   "cell_type": "markdown",
   "metadata": {},
   "source": [
    "<h1 align='center'><b>Question 03</b></h1>"
   ]
  },
  {
   "cell_type": "code",
   "execution_count": 12,
   "metadata": {},
   "outputs": [],
   "source": [
    "class Node:\n",
    "  def __init__(self,elem=None,next=None):\n",
    "    self.elem = elem\n",
    "    self.next = next"
   ]
  },
  {
   "cell_type": "code",
   "execution_count": 13,
   "metadata": {},
   "outputs": [],
   "source": [
    "class Queue:\n",
    "    def __init__(self):\n",
    "        self.front = None  # Points to the front of the queue\n",
    "        self.rear = None   # Points to the rear of the queue\n",
    "\n",
    "    def isEmpty(self):\n",
    "        \"\"\"Check if the queue is empty.\"\"\"\n",
    "        return self.front is None\n",
    "\n",
    "    def enq(self, value):\n",
    "        \"\"\"Add an element to the rear of the queue.\"\"\"\n",
    "        new_node = Node(value)\n",
    "        if self.rear is None:  # If the queue is empty\n",
    "            self.front = self.rear = new_node\n",
    "        else:\n",
    "            self.rear.next = new_node\n",
    "            self.rear = new_node\n",
    "\n",
    "    def deq(self):\n",
    "        \"\"\"Remove and return the front element of the queue.\"\"\"\n",
    "        if self.isEmpty():\n",
    "            raise IndexError(\"Queue is empty!\")\n",
    "        removed_value = self.front.elem\n",
    "        self.front = self.front.next\n",
    "        if self.front is None:  # If the queue becomes empty\n",
    "            self.rear = None\n",
    "        return removed_value\n",
    "\n",
    "    def peek(self):\n",
    "        \"\"\"Return the front element without removing it.\"\"\"\n",
    "        if self.isEmpty():\n",
    "            raise IndexError(\"Queue is empty!\")\n",
    "        return self.front.elem\n",
    "\n",
    "    def __str__(self):\n",
    "        \"\"\"String representation of the queue for easy debugging.\"\"\"\n",
    "        elements = []\n",
    "        current = self.front\n",
    "        while current:\n",
    "            elements.append(current.elem)\n",
    "            current = current.next\n",
    "        return \" -> \".join(map(str, elements))"
   ]
  },
  {
   "cell_type": "code",
   "execution_count": null,
   "metadata": {},
   "outputs": [],
   "source": [
    "class Stack:\n",
    "  def __init__(self):\n",
    "    self.__top = None\n",
    "\n",
    "  def push(self,elem):\n",
    "    nn = Node(elem,self.__top)\n",
    "    self.__top = nn\n",
    "\n",
    "  def pop(self):\n",
    "    if self.__top == None:\n",
    "      #print('Stack Underflow')\n",
    "      return None\n",
    "    e = self.__top\n",
    "    self.__top = self.__top.next\n",
    "    return e.elem\n",
    "\n",
    "  def peek(self):\n",
    "    if self.__top == None:\n",
    "      #print('Stack Underflow')\n",
    "      return None\n",
    "    return self.__top.elem\n",
    "\n",
    "  def isEmpty(self):\n",
    "    return self.__top == None"
   ]
  },
  {
   "cell_type": "code",
   "execution_count": 15,
   "metadata": {},
   "outputs": [],
   "source": [
    "def id_gender_extractor(s):\n",
    "    if s != None:\n",
    "        return s[0],s[2:] #gender, id\n",
    "    else:\n",
    "        return None, None"
   ]
  },
  {
   "cell_type": "code",
   "execution_count": 18,
   "metadata": {},
   "outputs": [
    {
     "name": "stdout",
     "output_type": "stream",
     "text": [
      "10 and 20 are paired together\n",
      "5 and 3 are paired together\n",
      "4 and 19 are paired together\n",
      "7 and 9 are paired together\n"
     ]
    }
   ],
   "source": [
    "def dance_pair(st) :\n",
    "    temp = Queue()\n",
    "    while not st.isEmpty() :\n",
    "        x = st.pop()\n",
    "        x_g, x_t = id_gender_extractor(x)\n",
    "        y = st.pop()\n",
    "        if y == None :\n",
    "            break\n",
    "        y_g , y_t = id_gender_extractor(y)\n",
    "        if x_g != y_g :\n",
    "            print(f\"{x_t} and {y_t} are paired together\")\n",
    "        else :\n",
    "            st.push(y)\n",
    "            if x_g == \"F\" :\n",
    "                temp.enq(x)\n",
    "            else :\n",
    "                if temp.isEmpty() :\n",
    "                    pass\n",
    "                else :\n",
    "                    y = temp.deq()\n",
    "                    y_g , y_t = id_gender_extractor(y)\n",
    "                    print(f\"{y_t} and {x_t} are paired together\")\n",
    "\n",
    "            \n",
    "\n",
    "\n",
    "\n",
    "st = Stack()\n",
    "st.push('F_18')\n",
    "st.push('F_9')\n",
    "st.push('M_7')\n",
    "st.push('M_1')\n",
    "st.push('M_19')\n",
    "st.push('M_3')\n",
    "st.push('F_5')\n",
    "st.push('F_4')\n",
    "st.push('F_20')\n",
    "st.push('M_10')\n",
    "dance_pair(st)"
   ]
  }
 ],
 "metadata": {
  "kernelspec": {
   "display_name": "Python 3",
   "language": "python",
   "name": "python3"
  },
  "language_info": {
   "codemirror_mode": {
    "name": "ipython",
    "version": 3
   },
   "file_extension": ".py",
   "mimetype": "text/x-python",
   "name": "python",
   "nbconvert_exporter": "python",
   "pygments_lexer": "ipython3",
   "version": "3.12.7"
  }
 },
 "nbformat": 4,
 "nbformat_minor": 2
}
