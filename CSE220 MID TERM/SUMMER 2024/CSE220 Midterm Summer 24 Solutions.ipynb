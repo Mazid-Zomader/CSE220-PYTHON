{
 "cells": [
  {
   "cell_type": "code",
   "execution_count": 74,
   "metadata": {},
   "outputs": [
    {
     "name": "stdout",
     "output_type": "stream",
     "text": [
      "Defaulting to user installation because normal site-packages is not writeable\n",
      "Requirement already satisfied: numpy in c:\\users\\mazid zomader\\appdata\\local\\packages\\pythonsoftwarefoundation.python.3.12_qbz5n2kfra8p0\\localcache\\local-packages\\python312\\site-packages (2.1.2)\n"
     ]
    },
    {
     "name": "stderr",
     "output_type": "stream",
     "text": [
      "\n",
      "[notice] A new release of pip is available: 24.2 -> 24.3.1\n",
      "[notice] To update, run: C:\\Users\\MAZID ZOMADER\\AppData\\Local\\Microsoft\\WindowsApps\\PythonSoftwareFoundation.Python.3.12_qbz5n2kfra8p0\\python.exe -m pip install --upgrade pip\n"
     ]
    }
   ],
   "source": [
    "! pip3 install numpy"
   ]
  },
  {
   "cell_type": "markdown",
   "metadata": {
    "id": "qzO087C5y1xC"
   },
   "source": [
    "<h1 align='center'><b>Question 01</b></h1>"
   ]
  },
  {
   "cell_type": "code",
   "execution_count": 75,
   "metadata": {
    "id": "_pfeD2CryJqw"
   },
   "outputs": [],
   "source": [
    "import numpy as np\n",
    "def print_matrix(m):\n",
    "  row,col = m.shape\n",
    "  for i in range(row):\n",
    "    c = 1\n",
    "    print('|', end='')\n",
    "    for j in range(col):\n",
    "      c += 1\n",
    "      if(len(str(m[i][j])) == 1):\n",
    "        print(' ',m[i][j], end = '  |')\n",
    "        c += 6\n",
    "      else:\n",
    "        print(' ',m[i][j], end = ' |')\n",
    "        c += 6\n",
    "    print()\n",
    "    print('-'*(c-col))"
   ]
  },
  {
   "cell_type": "code",
   "execution_count": 76,
   "metadata": {
    "colab": {
     "base_uri": "https://localhost:8080/"
    },
    "id": "F1elbPmfw3wv",
    "outputId": "cc2d393f-413d-4881-8cb2-e9607dc77d27"
   },
   "outputs": [
    {
     "name": "stdout",
     "output_type": "stream",
     "text": [
      "==============Test Case 1=============\n",
      "|  3  |  7  |  11 |\n",
      "-------------------\n",
      "|  2  |  6  |  10 |\n",
      "-------------------\n",
      "|  1  |  5  |  9  |\n",
      "-------------------\n",
      "\n",
      "==============Test Case 2=============\n",
      "|  4  |  8  |  12 |  16 |\n",
      "-------------------------\n",
      "|  3  |  6  |  7  |  15 |\n",
      "-------------------------\n",
      "|  2  |  10 |  11 |  14 |\n",
      "-------------------------\n",
      "|  1  |  5  |  9  |  13 |\n",
      "-------------------------\n"
     ]
    }
   ],
   "source": [
    "def rotate(matrix) :\n",
    "    for index in range(matrix.shape[0]-1):\n",
    "        temp = matrix[0][0]\n",
    "        for i in range(1, matrix.shape[0]) :\n",
    "            matrix[0][i-1] = matrix[0][i]\n",
    "        temp1 = matrix[matrix.shape[0]-1][0]\n",
    "        for i in range(matrix.shape[0]-1,0,-1) :\n",
    "            matrix[i][0] = matrix[i-1][0]\n",
    "        matrix[1][0] = temp\n",
    "        temp = matrix[matrix.shape[0]-1][matrix.shape[0]-1]\n",
    "        for i in range(matrix.shape[0]-2, -1, -1) :\n",
    "            matrix[matrix.shape[0]-1][i+1] = matrix[matrix.shape[0]-1][i]\n",
    "        matrix[matrix.shape[0]-1][1] = temp1\n",
    "        for i in range(1, matrix.shape[0]) :\n",
    "            matrix[i-1][matrix.shape[0]-1] = matrix[i][matrix.shape[0]-1]\n",
    "        matrix[matrix.shape[0]-2][matrix.shape[0]-1] = temp\n",
    "    return matrix\n",
    "print('==============Test Case 1=============')\n",
    "matrix = np.array([[1,2,3],[5,6,7],[9,10,11]])\n",
    "print_matrix(rotate(matrix))\n",
    "print()\n",
    "print('==============Test Case 2=============')\n",
    "matrix = np.array([[1,2,3,4],[5,6,7,8],[9,10,11,12],[13,14,15,16]])\n",
    "print_matrix(rotate(matrix))\n",
    "\n"
   ]
  },
  {
   "cell_type": "markdown",
   "metadata": {},
   "source": [
    "<h1 align='center'><b>Question 02</b></h1>"
   ]
  },
  {
   "cell_type": "code",
   "execution_count": 77,
   "metadata": {},
   "outputs": [],
   "source": [
    "#Run this cell\n",
    "class Node:\n",
    "  def __init__(self,elem,next = None):\n",
    "    self.elem,self.next = elem,next\n",
    "\n",
    "def createList(arr):\n",
    "  head = Node(arr[0])\n",
    "  tail = head\n",
    "  for i in range(1,len(arr)):\n",
    "    newNode = Node(arr[i])\n",
    "    tail.next = newNode\n",
    "    tail = newNode\n",
    "  return head\n",
    "\n",
    "def printLinkedList(head):\n",
    "  temp = head\n",
    "  while temp != None:\n",
    "    if temp.next != None:\n",
    "      print(temp.elem, end = ' --> ')\n",
    "    else:\n",
    "      print(temp.elem)\n",
    "    temp = temp.next\n",
    "  print()"
   ]
  },
  {
   "cell_type": "code",
   "execution_count": 78,
   "metadata": {},
   "outputs": [
    {
     "name": "stdout",
     "output_type": "stream",
     "text": [
      "==============Test Case 1=============\n",
      "Original Compartment Sequence:  101 --> 103 --> 101 --> 102 --> 103 --> 104 --> 105 --> 105\n",
      "\n",
      "Changed Compartment Sequence:  101 --> 103 --> 102 --> 104 --> 105\n",
      "\n",
      "==============Test Case 2=============\n",
      "Original Compartment Sequence:  102 --> 101 --> 101 --> 102 --> 102 --> 102 --> 103 --> 104 --> 104\n",
      "\n",
      "Changed Compartment Sequence:  102 --> 101 --> 103 --> 104\n",
      "\n"
     ]
    }
   ],
   "source": [
    "def remove_Duplicates(head):\n",
    "    temp = head\n",
    "    idx = 0\n",
    "    while temp!= None :\n",
    "        temp1 = head\n",
    "        if idx == 0 :\n",
    "            idx += 1\n",
    "            temp = temp.next\n",
    "        else :\n",
    "            while temp1 != temp :\n",
    "                if temp.elem == temp1.elem :\n",
    "                    x = head\n",
    "                    while x.next != temp :\n",
    "                        x = x.next\n",
    "                    x.next = x.next.next\n",
    "                    break\n",
    "                temp1 = temp1.next\n",
    "            temp = temp.next\n",
    "            idx += 1\n",
    "    return head\n",
    "print('==============Test Case 1=============')\n",
    "print('Original Compartment Sequence: ', end = ' ')\n",
    "head = createList(np.array([101,103,101,102,103,104,105,105]))\n",
    "printLinkedList(head)\n",
    "print('Changed Compartment Sequence: ', end = ' ')\n",
    "printLinkedList(remove_Duplicates(head)) #This should print 101 --> 103 --> 102 --> 104 --> 105\n",
    "print('==============Test Case 2=============')\n",
    "print('Original Compartment Sequence: ', end = ' ')\n",
    "head = createList(np.array([102,101,101,102,102,102,103,104,104]))\n",
    "printLinkedList(head)\n",
    "print('Changed Compartment Sequence: ', end = ' ')\n",
    "printLinkedList(remove_Duplicates(head)) #This should print 102 --> 101 --> 103 --> 104"
   ]
  },
  {
   "cell_type": "markdown",
   "metadata": {},
   "source": [
    "<h1 align='center'><b>Question 03</b></h1>"
   ]
  },
  {
   "cell_type": "code",
   "execution_count": 79,
   "metadata": {},
   "outputs": [],
   "source": [
    "class Node:\n",
    "  def __init__(self,elem=None,next=None):\n",
    "    self.elem = elem\n",
    "    self.next = next\n",
    "\n",
    "class Stack:\n",
    "  def __init__(self):\n",
    "    self.__top = None\n",
    "\n",
    "  def push(self,elem):\n",
    "    nn = Node(elem,self.__top)\n",
    "    self.__top = nn\n",
    "\n",
    "  def pop(self):\n",
    "    if self.__top == None:\n",
    "      #print('Stack Underflow')\n",
    "      return None\n",
    "    e = self.__top\n",
    "    self.__top = self.__top.next\n",
    "    return e.elem\n",
    "\n",
    "  def peek(self):\n",
    "    if self.__top == None:\n",
    "      #print('Stack Underflow')\n",
    "      return None\n",
    "    return self.__top.elem\n",
    "\n",
    "  def isEmpty(self):\n",
    "    return self.__top == None\n",
    "def print_stack(st):\n",
    "  if st.isEmpty():\n",
    "    print('------')\n",
    "    return\n",
    "  p = st.pop()\n",
    "  print('|',p,end=' ')\n",
    "  if p<10:\n",
    "    print(' |')\n",
    "  else:\n",
    "    print('|')\n",
    "#   print('------')\n",
    "  print_stack(st)\n",
    "  st.push(p)\n"
   ]
  },
  {
   "cell_type": "code",
   "execution_count": 80,
   "metadata": {},
   "outputs": [
    {
     "name": "stdout",
     "output_type": "stream",
     "text": [
      "==============Test Case 1=============\n",
      "Original Stack: \n",
      "| 8  |\n",
      "| 7  |\n",
      "| 6  |\n",
      "| 5  |\n",
      "| 4  |\n",
      "| 3  |\n",
      "| 2  |\n",
      "| 1  |\n",
      "------\n",
      "Modified Stack: \n",
      "| 7  |\n",
      "| 8  |\n",
      "| 5  |\n",
      "| 6  |\n",
      "| 3  |\n",
      "| 4  |\n",
      "| 1  |\n",
      "| 2  |\n",
      "------\n",
      "==============Test Case 2=============\n",
      "Original Stack: \n",
      "| 7  |\n",
      "| 6  |\n",
      "| 5  |\n",
      "| 4  |\n",
      "| 3  |\n",
      "| 2  |\n",
      "| 1  |\n",
      "------\n",
      "Modified Stack: \n",
      "| 7  |\n",
      "| 5  |\n",
      "| 6  |\n",
      "| 3  |\n",
      "| 4  |\n",
      "| 1  |\n",
      "| 2  |\n",
      "------\n"
     ]
    }
   ],
   "source": [
    "def reverse_stack(st) :\n",
    "    temp = Stack()\n",
    "    while not st.isEmpty() :\n",
    "        temp.push(st.pop())\n",
    "    return temp\n",
    "def Do_Adjacent_Swap(st) :\n",
    "    temp = reverse_stack(st)\n",
    "    return_stack = Stack()\n",
    "    while not temp.isEmpty() :\n",
    "        x = temp.pop() #1\n",
    "        if temp.isEmpty() :\n",
    "            return_stack.push(x)\n",
    "            return return_stack\n",
    "        y = temp.pop() #2\n",
    "        return_stack.push(y)\n",
    "        return_stack.push(x)\n",
    "    return return_stack\n",
    "print('==============Test Case 1=============')   \n",
    "st = Stack()\n",
    "st.push(1)\n",
    "st.push(2)\n",
    "st.push(3)\n",
    "st.push(4)\n",
    "st.push(5)\n",
    "st.push(6)\n",
    "st.push(7)\n",
    "st.push(8)\n",
    "\n",
    "print('Original Stack: ')\n",
    "print_stack(st)\n",
    "print('Modified Stack: ')\n",
    "print_stack(Do_Adjacent_Swap(st))\n",
    "print('==============Test Case 2=============')   \n",
    "st = Stack()\n",
    "st.push(1)\n",
    "st.push(2)\n",
    "st.push(3)\n",
    "st.push(4)\n",
    "st.push(5)\n",
    "st.push(6)\n",
    "st.push(7)\n",
    "\n",
    "print('Original Stack: ')\n",
    "print_stack(st)\n",
    "print('Modified Stack: ')\n",
    "print_stack(Do_Adjacent_Swap(st))\n"
   ]
  }
 ],
 "metadata": {
  "colab": {
   "provenance": []
  },
  "kernelspec": {
   "display_name": "Python 3",
   "name": "python3"
  },
  "language_info": {
   "codemirror_mode": {
    "name": "ipython",
    "version": 3
   },
   "file_extension": ".py",
   "mimetype": "text/x-python",
   "name": "python",
   "nbconvert_exporter": "python",
   "pygments_lexer": "ipython3",
   "version": "3.12.7"
  }
 },
 "nbformat": 4,
 "nbformat_minor": 0
}
