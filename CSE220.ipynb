{
  "cells": [
    {
      "cell_type": "markdown",
      "metadata": {
        "id": "qpomx1UO3etg"
      },
      "source": [
        "***CSE220 [Data Structures]***\n",
        "\n"
      ]
    },
    {
      "cell_type": "markdown",
      "metadata": {},
      "source": [
        "**Book Link:** https://drive.google.com/drive/folders/1mhYUK8U6mKGiZNbV9T6p8M1ayKaoFM7H"
      ]
    },
    {
      "cell_type": "markdown",
      "metadata": {
        "id": "FGf3R0663rrG"
      },
      "source": [
        "**Linear Array**"
      ]
    },
    {
      "cell_type": "code",
      "execution_count": null,
      "metadata": {},
      "outputs": [],
      "source": [
        "# Module/Library and user defined functions"
      ]
    },
    {
      "cell_type": "code",
      "execution_count": 83,
      "metadata": {
        "colab": {
          "base_uri": "https://localhost:8080/"
        },
        "id": "1jchqH0W3v9w",
        "outputId": "a6003392-e83e-43b9-ba57-d97182acdb7e"
      },
      "outputs": [
        {
          "name": "stdout",
          "output_type": "stream",
          "text": [
            "[0. 0. 0. 0. 0.]\n"
          ]
        }
      ],
      "source": [
        "# Creating an array using numpy\n",
        "import numpy as np\n",
        "def create_array(num):\n",
        "    a = np.zeros(num) # Creating array with size given in argument\n",
        "    return a\n",
        "a = create_array(5)\n",
        "print(a)"
      ]
    },
    {
      "cell_type": "code",
      "execution_count": 84,
      "metadata": {
        "colab": {
          "base_uri": "https://localhost:8080/"
        },
        "id": "aSHZ2I1t4b1y",
        "outputId": "740da45c-c133-4f31-fcf5-63a9136bc2fe"
      },
      "outputs": [
        {
          "name": "stdout",
          "output_type": "stream",
          "text": [
            "0.0\n",
            "0.0\n",
            "0.0\n",
            "0.0\n",
            "0.0\n"
          ]
        }
      ],
      "source": [
        "# Iterating through an array\n",
        "import numpy as np\n",
        "def iterate_loop(array) :\n",
        "    for index in range(array.size) :\n",
        "        print (array[index])\n",
        "iterate_loop(a)"
      ]
    },
    {
      "cell_type": "code",
      "execution_count": 85,
      "metadata": {
        "colab": {
          "base_uri": "https://localhost:8080/"
        },
        "id": "meNEExZK5pHI",
        "outputId": "e8478a36-9b7d-44ac-b55f-59d00791056e"
      },
      "outputs": [
        {
          "name": "stdout",
          "output_type": "stream",
          "text": [
            "[1 2 3 4 5]\n",
            "[0. 0. 0. 0. 0. 0. 0. 0. 0. 0.]\n",
            "[1. 2. 3. 4. 5. 0. 0. 0. 0. 0.]\n"
          ]
        }
      ],
      "source": [
        "# Resizing an array\n",
        "# We can not resize an array due to its fixed memory location. But we can create a new array with new leght and copy the elements of previos array\n",
        "a = np.array([1,2,3,4,5])\n",
        "print(a)\n",
        "# Lets create an array with a new length. Lets assume the lenght of new array is 10\n",
        "b = np.zeros(10)\n",
        "print(b) # Created new array with lenght of 10\n",
        "# Now, we copy the elements of previous array to new array\n",
        "for index in range(a.size) :\n",
        "    b[index] = a[index]\n",
        "print(b)"
      ]
    },
    {
      "cell_type": "code",
      "execution_count": 7,
      "metadata": {
        "id": "kmcP_Uai619V"
      },
      "outputs": [
        {
          "name": "stdout",
          "output_type": "stream",
          "text": [
            "[1 2 3 4 5]\n",
            "[0 0 0 0 0]\n"
          ]
        }
      ],
      "source": [
        "# Data type declaration in numpy\n",
        "import numpy as np\n",
        "a = np.array([1,2,3,4,5], dtype= int)\n",
        "print(a)\n",
        "a = np.zeros(5, dtype= int)\n",
        "print(a)"
      ]
    },
    {
      "cell_type": "code",
      "execution_count": 4,
      "metadata": {},
      "outputs": [
        {
          "name": "stdout",
          "output_type": "stream",
          "text": [
            "[0 0 0 0 0]\n",
            "[ 5  5  3 96  2]\n",
            "[ 5  5  3 96  2]\n",
            "[ 5  5  3 96  2]\n",
            "[ 5  1  3 96  2]\n"
          ]
        }
      ],
      "source": [
        "# Copy an array(Pass by Value)\n",
        "\n",
        "# Creating an array using numpy\n",
        "import numpy as np\n",
        "def create_array(num):\n",
        "    a = np.zeros(num, dtype = int) # Creating array with size given in argument with declaring data type\n",
        "    return a\n",
        "a = create_array(5)\n",
        "print(a)\n",
        "# Inputing values for array\n",
        "def input_value(arr) :\n",
        "    for index in range(arr.size) :\n",
        "        a = int(input(\"Enter value: \")) \n",
        "        arr[index] = a\n",
        "input_value(a)\n",
        "print(a)\n",
        "def copy_array(arr1):\n",
        "    # arr2 = arr1.copy()   #Easy way to copy an array🥹\n",
        "    arr2 = np.zeros(arr1.size, dtype = int) \n",
        "    for index in range(arr2.size) :\n",
        "        arr2[index]= arr1[index]\n",
        "    return arr2\n",
        "b = copy_array(a)\n",
        "print(b)\n",
        "# Changing any values of any one of the arrays. Lets check wheather they passed by values or references\n",
        "b[1] = int(input(\"Enter the value you want to change: \"))\n",
        "print(a) # The changed value didn't effect this array, thus it was passed by value\n",
        "print(b)"
      ]
    },
    {
      "cell_type": "code",
      "execution_count": 31,
      "metadata": {},
      "outputs": [
        {
          "name": "stdout",
          "output_type": "stream",
          "text": [
            "[1 2 3 4 5]\n",
            "[2 3 4 5 0]\n",
            "[0 1 2 3 4]\n"
          ]
        }
      ],
      "source": [
        "# Shifting the value of an array\n",
        "# (1)Right to left\n",
        "a = np.array([1,2,3,4,5], dtype = int)\n",
        "print(a)\n",
        "def right_to_left (arr) :\n",
        "    for index in range(1,arr.size) :\n",
        "        arr[index-1] = arr[index]\n",
        "    arr[arr.size-1] = 0\n",
        "    return arr\n",
        "a = right_to_left(a)\n",
        "print(a)\n",
        "a = np.array([1,2,3,4,5], dtype = int)\n",
        "#  Left to Right\n",
        "def left_to_right(arr) :\n",
        "    for index in range(arr.size-1,0,-1) :\n",
        "        arr[index] = arr[index-1]\n",
        "    arr[0] = 0\n",
        "    return arr\n",
        "a = left_to_right(a)\n",
        "print(a)"
      ]
    },
    {
      "cell_type": "code",
      "execution_count": 5,
      "metadata": {},
      "outputs": [
        {
          "name": "stdout",
          "output_type": "stream",
          "text": [
            "[ 5  3  9 13  2]\n",
            "[ 3  9 13  2  5]\n",
            "[ 2  5  3  9 13]\n"
          ]
        }
      ],
      "source": [
        "# Rotating an array\n",
        "import numpy as np\n",
        "a = np.array([5, 3, 9, 13, 2], dtype = int)\n",
        "print(a)\n",
        "# from left to right\n",
        "def rotate_left(arr) :\n",
        "    temp = arr[0]\n",
        "    for index in range(1,arr.size) :\n",
        "        arr[index-1] = arr[index]\n",
        "    arr[arr.size-1] = temp\n",
        "    return arr\n",
        "a = rotate_left(a)\n",
        "print(a)\n",
        "# Right to left\n",
        "a = np.array([5, 3, 9, 13, 2], dtype = int)\n",
        "def rotate_right(arr) :\n",
        "    temp = arr[arr.size-1]\n",
        "    for index in range(arr.size-2,-1,-1) :\n",
        "        arr[index+1] = arr[index]\n",
        "    arr[0]= temp\n",
        "    return arr\n",
        "a = rotate_right(a)\n",
        "print(a)\n",
        "    "
      ]
    },
    {
      "cell_type": "code",
      "execution_count": 3,
      "metadata": {},
      "outputs": [
        {
          "name": "stdout",
          "output_type": "stream",
          "text": [
            "[ 2  8 13  9  3  5]\n",
            "[ 2  8 13  9  3  5]\n"
          ]
        }
      ],
      "source": [
        "# Reverse an array (Out-of-place & In-place)\n",
        "# Reversing an array can be implemented in two ways. First, we will create a new array with the same size as the original array and then copy the values in reverse order. The method is called out-of-the-place operation.\n",
        "# However, an efficient approach might be to reverse the array in the original array. By this, we will not need to allocate extra spaces. This is known as an in-place operation. To do so we need to start swapping values from the beginning position to the end position. The idea is to swap starting value with the end value, then the second value with the second last value, and so on.\n",
        "import numpy as np\n",
        "# Out of place\n",
        "def out_of_place(arr) :\n",
        "    arr2 = np.zeros(arr.size, dtype = int)\n",
        "    for index in range(arr2.size) :\n",
        "        arr2[index] = arr[arr.size-index-1]\n",
        "    return arr2\n",
        "a = np.array([5, 3, 9, 13,8, 2], dtype = int)\n",
        "a = out_of_place(a)\n",
        "print(a)\n",
        "# In Place\n",
        "def in_place(arr) :\n",
        "    for index in range(arr.size) :\n",
        "        if index >= arr.size-index-1 :\n",
        "            break\n",
        "        else :\n",
        "            temp = arr[index]\n",
        "            arr[index]= arr[arr.size-1-index]\n",
        "            arr[arr.size-1-index] = temp\n",
        "    return arr\n",
        "a = np.array([5, 3, 9, 13,8, 2], dtype = int)\n",
        "a = in_place(a)\n",
        "print(a)"
      ]
    },
    {
      "cell_type": "code",
      "execution_count": 8,
      "metadata": {},
      "outputs": [
        {
          "name": "stdout",
          "output_type": "stream",
          "text": [
            "0\n",
            "0\n",
            "0\n",
            "0\n",
            "0\n"
          ]
        }
      ],
      "source": [
        "#  Linear Array property: Size\n",
        "def print_non_dummies(arr, size) :\n",
        "    for index in range(size) :\n",
        "        print(arr[index])\n",
        "\n",
        "a = create_array(8) \n",
        "print_non_dummies(a, 5)"
      ]
    },
    {
      "cell_type": "code",
      "execution_count": 16,
      "metadata": {},
      "outputs": [
        {
          "name": "stdout",
          "output_type": "stream",
          "text": [
            "[ 0  0  0  0  0 10]\n",
            "[ 0  0 10  0  0]\n"
          ]
        }
      ],
      "source": [
        "# Insertation\n",
        "# (i) At the end\n",
        "import numpy as np\n",
        "def resize_array(arr, size) :\n",
        "    arr2= np.zeros(size , dtype = int)\n",
        "    for index in range(arr.size) :\n",
        "        arr2[index] = arr[index]\n",
        "    return arr2\n",
        "def insert_at_the_end(arr, size, elem) :\n",
        "    if size >= arr.size :\n",
        "        arr= resize_array(arr, size+1)\n",
        "    arr[size] = elem\n",
        "    return arr\n",
        "arr = create_array(5)\n",
        "print(insert_at_the_end(arr,5,10))\n",
        "# (ii) Anywhere\n",
        "def insert_anywhere(arr, size, index, element) :\n",
        "    if index <0 or index > size :\n",
        "        return f\"Insertation not possible\"\n",
        "    else :\n",
        "        if size > arr.size :\n",
        "            arr = resize_array(arr, arr.size+1)\n",
        "    for index in range(size, index+1) :\n",
        "        arr[index] = arr[index-1]\n",
        "\n",
        "    arr[index] = element\n",
        "    return arr\n",
        "arr=create_array(5)\n",
        "print(insert_anywhere(arr, 5, 2, 10))\n",
        "        "
      ]
    },
    {
      "cell_type": "code",
      "execution_count": 24,
      "metadata": {},
      "outputs": [
        {
          "name": "stdout",
          "output_type": "stream",
          "text": [
            "[5 9 5 6 3]\n",
            "[5 9 5 6 0]\n",
            "[5 9 5 6 3]\n",
            "[5 9 0 6 3]\n"
          ]
        }
      ],
      "source": [
        "# Deletation of an element of an array\n",
        "# (i) last element\n",
        "def input_value(arr) :\n",
        "    for index in range(arr.size) :\n",
        "        a = int(input(\"Enter value: \")) \n",
        "        arr[index] = a\n",
        "    return arr\n",
        "def delete_last_element(arr, size) :\n",
        "    if size == 0 :\n",
        "        return f\"Delete not possible\"\n",
        "    else :\n",
        "        arr[size-1] = 0\n",
        "        return arr\n",
        "arr = create_array(5)\n",
        "arr = input_value(arr)\n",
        "print(arr)\n",
        "print(delete_last_element(arr,5))\n",
        "# (ii) any element\n",
        "def delete_any_element(arr, size, index) :\n",
        "    if size == 0 or (index< 0 or index >= size) :\n",
        "        return \"Deletation not possible\"\n",
        "    else :\n",
        "        arr[index] = 0\n",
        "        return arr\n",
        "arr = create_array(5)\n",
        "arr = input_value(arr)\n",
        "print(arr)\n",
        "print(delete_any_element(arr, 5, 2)) # Value of 2nd index deleted "
      ]
    },
    {
      "cell_type": "markdown",
      "metadata": {},
      "source": [
        "**Practice Problem** from central book of CSE220"
      ]
    },
    {
      "cell_type": "code",
      "execution_count": 41,
      "metadata": {},
      "outputs": [
        {
          "name": "stdout",
          "output_type": "stream",
          "text": [
            "[1 2 3 2 1]\n",
            "It is a palindrome\n"
          ]
        }
      ],
      "source": [
        "# Practice Problem 01\n",
        "def palindrome(arr) :\n",
        "    flag = True\n",
        "    for index in range(arr.size) :\n",
        "        if index >= arr.size-index-1 :\n",
        "            break\n",
        "        else :\n",
        "            if arr[index] == arr[arr.size-index-1] :\n",
        "                pass\n",
        "            else :\n",
        "                flag = False\n",
        "                break\n",
        "    if flag :\n",
        "        return \"It is a palindrome\"\n",
        "    else :\n",
        "        return \"It is not a palindrome\"\n",
        "size = int(input(\"Enter the size of array: \"))\n",
        "arr = create_array(size)\n",
        "arr = input_value(arr)\n",
        "print(arr)\n",
        "print(palindrome(arr))"
      ]
    },
    {
      "cell_type": "code",
      "execution_count": 44,
      "metadata": {},
      "outputs": [
        {
          "name": "stdout",
          "output_type": "stream",
          "text": [
            "[6 5 2 3 1]\n"
          ]
        }
      ],
      "source": [
        "# Practice Problem 02\n",
        "def reverse_print(arr, size) :\n",
        "    arr2 = np.zeros(size, dtype = int)\n",
        "    for index in range(size) :\n",
        "        arr2[index] = arr[size-index-1]\n",
        "    return arr2\n",
        "arr= np.array([1, 3, 2, 5,6, 0, 0])\n",
        "print(reverse_print(arr, 5))"
      ]
    },
    {
      "cell_type": "code",
      "execution_count": 52,
      "metadata": {},
      "outputs": [
        {
          "name": "stdout",
          "output_type": "stream",
          "text": [
            "[1 5 6 3 5 2 4]\n"
          ]
        }
      ],
      "source": [
        "# Practice Problem 03\n",
        "def Merge_Arrays(arr1, arr1_ele, arr2, arr2_ele) :\n",
        "    arr3 = np.zeros(arr2_ele+arr1_ele, dtype = int) \n",
        "    for index1 in range(arr1_ele) :\n",
        "        arr3[index1] = arr1[index1]\n",
        "    for index2 in range(arr2_ele) :\n",
        "        arr3[index2+arr1_ele] = arr2[index2]\n",
        "    return arr3\n",
        "arr1= np.array([1, 5, 6, 0, 0])\n",
        "arr2= np.array([3, 5, 2, 4, 0])\n",
        "print(Merge_Arrays(arr1, 3, arr2, 4)) #Array1, Array1 size, Array2, Array2 size"
      ]
    },
    {
      "cell_type": "markdown",
      "metadata": {},
      "source": [
        "**Multidimentional Array**"
      ]
    },
    {
      "cell_type": "markdown",
      "metadata": {},
      "source": [
        "**2D Array**"
      ]
    },
    {
      "cell_type": "code",
      "execution_count": 73,
      "metadata": {},
      "outputs": [
        {
          "name": "stdout",
          "output_type": "stream",
          "text": [
            "2\n",
            "[[0 0 0]\n",
            " [0 0 0]]\n"
          ]
        }
      ],
      "source": [
        "# Creating a 2D array\n",
        "import numpy as np\n",
        "arr1 = np.zeros((2,3), dtype=int)\n",
        "print(arr1.ndim) # Check dimension\n",
        "# variable_name = np.zeros((row_num, column_num), dtype = data_type)\n",
        "row = int(input(\"Enter number of rows: \"))\n",
        "column = int(input(\"Enter number of column: \"))\n",
        "def create_2D_array(row, column) :\n",
        "    return np.zeros((row,column), dtype = int)\n",
        "arr1 = create_2D_array(row, column)\n",
        "print(arr1)"
      ]
    },
    {
      "cell_type": "code",
      "execution_count": 68,
      "metadata": {},
      "outputs": [
        {
          "name": "stdout",
          "output_type": "stream",
          "text": [
            "[[1 2 3]\n",
            " [4 5 6]]\n",
            "[[1 3 5]\n",
            " [2 4 6]]\n"
          ]
        }
      ],
      "source": [
        "# Iterating through 2D array including allocating the elements\n",
        "def iteration_row_wise(arr1) :\n",
        "    for index in range(arr1.shape[0]) : # Row\n",
        "        for index1 in range(arr1.shape[1]) : # Column\n",
        "            arr1[index, index1] = int(input(f\"Enter {index},{index1} value of array: \"))\n",
        "    return arr1\n",
        "row = int(input(\"Enter number of rows: \"))\n",
        "column = int(input(\"Enter number of column: \"))\n",
        "a = create_2D_array(row, column)\n",
        "a = iteration_row_wise(a)\n",
        "print(a)\n",
        "def iteration_column_wise(arr1) :\n",
        "    for index in range(arr1.shape[1]) : # Column\n",
        "        for index2 in range(arr1.shape[0]) : # row\n",
        "            arr1[index2, index] = int(input(f\"Enter {index2},{index} value of array: \"))\n",
        "    return arr1\n",
        "a = iteration_column_wise(a)\n",
        "print(a)"
      ]
    },
    {
      "cell_type": "code",
      "execution_count": 70,
      "metadata": {},
      "outputs": [
        {
          "name": "stdout",
          "output_type": "stream",
          "text": [
            "[[0 2 4]\n",
            " [1 3 5]]\n",
            "15\n"
          ]
        }
      ],
      "source": [
        "# Sum of all elements in a 2D matrix :\n",
        "def array_sum(arr1) :\n",
        "    sum = 0\n",
        "    for index in range(arr1.shape[0]) :\n",
        "        for index2 in range(arr1.shape[1]) :\n",
        "            sum += arr1[index, index2]\n",
        "    return sum\n",
        "row = int(input(\"Enter number of rows: \"))\n",
        "column = int(input(\"Enter number of column: \"))\n",
        "a = create_2D_array(row,column)\n",
        "a = iteration_column_wise(a)\n",
        "print(a) \n",
        "print(array_sum(a))"
      ]
    },
    {
      "cell_type": "code",
      "execution_count": 76,
      "metadata": {},
      "outputs": [
        {
          "name": "stdout",
          "output_type": "stream",
          "text": [
            "[[ 4  3  8]\n",
            " [ 2  5  1]\n",
            " [ 7 -1  9]\n",
            " [ 5  4 -2]]\n",
            "Sum of 1th row is: 15\n",
            "Sum of 2th row is: 8\n",
            "Sum of 3th row is: 15\n",
            "Sum of 4th row is: 7\n",
            "[15  8 15  7]\n"
          ]
        }
      ],
      "source": [
        "# Sum of every row in a 2D matrix \n",
        "def row_wise_matrix_sum (arr) :\n",
        "    result = np.zeros(arr.shape[0], dtype = int)\n",
        "    for index in range(arr.shape[0]) :\n",
        "        sum = 0\n",
        "        for index1 in range(arr.shape[1]) :\n",
        "            sum += arr[index, index1]\n",
        "        print(f\"Sum of {index+1}th row is: {sum}\")\n",
        "        result[index] = sum\n",
        "    return result\n",
        "row = int(input(\"Enter number of rows: \"))\n",
        "column = int(input(\"Enter number of column: \"))\n",
        "a = create_2D_array(row,column)\n",
        "a = iteration_row_wise(a)\n",
        "print(a) \n",
        "print(row_wise_matrix_sum(a))"
      ]
    },
    {
      "cell_type": "code",
      "execution_count": 77,
      "metadata": {},
      "outputs": [
        {
          "name": "stdout",
          "output_type": "stream",
          "text": [
            "[[ 4  3  8]\n",
            " [ 2  5  1]\n",
            " [ 7 -1  9]\n",
            " [ 5  4 -2]]\n",
            "Sum of 1th column is: 18\n",
            "Sum of 2th column is: 11\n",
            "Sum of 3th column is: 16\n",
            "[18 11 16]\n"
          ]
        }
      ],
      "source": [
        "# Sum of every column in a 2D martix\n",
        "def col_wise_matrix_sum(arr) :\n",
        "    result = np.zeros(arr.shape[1], dtype=int)\n",
        "    for index in range(arr.shape[1]) :\n",
        "        sum = 0\n",
        "        for index1 in range(arr.shape[0]) :\n",
        "            sum += arr[index1, index] \n",
        "        print(f\"Sum of {index+1}th column is: {sum}\")\n",
        "        result[index] = sum\n",
        "    return result\n",
        "\n",
        "row = int(input(\"Enter number of rows: \"))\n",
        "column = int(input(\"Enter number of column: \"))\n",
        "a = create_2D_array(row,column)\n",
        "a = iteration_row_wise(a)\n",
        "print(a) \n",
        "print(col_wise_matrix_sum(a))"
      ]
    },
    {
      "cell_type": "code",
      "execution_count": 79,
      "metadata": {},
      "outputs": [
        {
          "name": "stdout",
          "output_type": "stream",
          "text": [
            "[[4 3]\n",
            " [2 5]\n",
            " [7 6]]\n",
            "After Swapping Column:\n",
            " [[3 4]\n",
            " [5 2]\n",
            " [6 7]]\n"
          ]
        }
      ],
      "source": [
        "# Swap the two columns of a m x 2 matrix\n",
        "def swap_2column(arr) :\n",
        "    for index in range(arr.shape[0]) :\n",
        "        temp = arr[index, 0]\n",
        "        arr[index, 0] = arr[index, 1]\n",
        "        arr[index, 1] = temp\n",
        "    return arr\n",
        "row = int(input(\"Enter number of rows: \"))\n",
        "column = int(input(\"Enter number of column: \"))\n",
        "a = create_2D_array(row,column)\n",
        "a = iteration_row_wise(a)\n",
        "print(a) \n",
        "print(\"After Swapping Column:\\n\",swap_2column(a))"
      ]
    },
    {
      "cell_type": "code",
      "execution_count": null,
      "metadata": {},
      "outputs": [],
      "source": []
    },
    {
      "cell_type": "code",
      "execution_count": 82,
      "metadata": {},
      "outputs": [
        {
          "name": "stdout",
          "output_type": "stream",
          "text": [
            "[[4 3 8]\n",
            " [2 5 1]\n",
            " [7 6 9]]\n"
          ]
        },
        {
          "data": {
            "text/plain": [
              "18"
            ]
          },
          "execution_count": 82,
          "metadata": {},
          "output_type": "execute_result"
        }
      ],
      "source": [
        "# Addition of primary diagonal\n",
        "def sum_primary_diagonal(arr) :\n",
        "    if (arr.shape[0]) != arr.shape[1] :\n",
        "        return \"Not a square matrix\"\n",
        "    else :\n",
        "        sum = 0\n",
        "        for index in range(arr.shape[0]) :\n",
        "            sum += arr[index,index]\n",
        "        return sum\n",
        "row = int(input(\"Enter number of rows: \"))\n",
        "column = int(input(\"Enter number of column: \"))\n",
        "a = create_2D_array(row,column)\n",
        "a = iteration_row_wise(a)\n",
        "print(a) \n",
        "print(f\"Sum of primary diagonal: {sum_primary_diagonal(a)}\")"
      ]
    },
    {
      "cell_type": "markdown",
      "metadata": {},
      "source": [
        "**Random Exercise** from central book of CSE220"
      ]
    },
    {
      "cell_type": "code",
      "execution_count": 27,
      "metadata": {},
      "outputs": [
        {
          "name": "stdout",
          "output_type": "stream",
          "text": [
            "7\n"
          ]
        }
      ],
      "source": [
        "#1.1\n",
        "def converter(a) :\n",
        "    a = a.split()\n",
        "    for index in range(len(a)) :\n",
        "        a[index] = int(a[index])\n",
        "    return a\n",
        "a = input(f\"Enter size of 2 arrays: \")\n",
        "a = converter(a)\n",
        "# print(a)\n",
        "import numpy as np\n",
        "arr1 = np.zeros(a[0], dtype = int)\n",
        "arr2 = np.zeros(a[1], dtype = int)\n",
        "arr1_element = input(\"Enter the element of arr1: \")\n",
        "arr1_element = converter(arr1_element)\n",
        "# print(arr1_element)\n",
        "arr2_element = input(\"Enter the element of arr2: \")\n",
        "arr2_element = converter(arr2_element)\n",
        "# print(arr2_element)\n",
        "def converter_array(arr, element) :\n",
        "    for index in range(arr.size) :\n",
        "        arr[index] = element[index]\n",
        "    return arr\n",
        "arr1 = converter_array(arr1, arr1_element)\n",
        "# print(arr1)\n",
        "arr2 = converter_array(arr2, arr2_element)\n",
        "# print(arr2)\n",
        "\n",
        "count = 0\n",
        "for index in range(arr2.size) :\n",
        "    count += 1\n",
        "for index in range(arr1.size) :\n",
        "    if arr1[index] in arr2 :\n",
        "        pass\n",
        "    else :\n",
        "        count += 1\n",
        "print(count)"
      ]
    },
    {
      "cell_type": "code",
      "execution_count": 40,
      "metadata": {},
      "outputs": [
        {
          "name": "stdout",
          "output_type": "stream",
          "text": [
            "[ 7  9 10 11 -5 -3 -4 -1]\n"
          ]
        }
      ],
      "source": [
        "#1.2\n",
        "import numpy as np \n",
        "def sorting(arr) :\n",
        "    pos = []\n",
        "    neg = []\n",
        "    for index in range(arr.size) :\n",
        "        if arr[index] < 0 :\n",
        "            neg.append(arr[index])\n",
        "        else :\n",
        "            pos.append(arr[index])\n",
        "    for index in range(arr.size-len(neg)) :\n",
        "        arr[index] = pos[index]\n",
        "    for index in range(arr.size-len(neg), arr.size) :\n",
        "        arr[index] = neg[index-len(pos)]\n",
        "    return arr\n",
        "N = int(input(\"Enter number of elements: \"))\n",
        "arr = np.zeros(N, dtype = int)\n",
        "for index in range(arr.size) :\n",
        "    arr[index] = int(input(f\"Enter {index+1}th element: \"))\n",
        "# print(arr)\n",
        "print(sorting(arr))"
      ]
    }
  ],
  "metadata": {
    "colab": {
      "provenance": []
    },
    "kernelspec": {
      "display_name": "Python 3",
      "name": "python3"
    },
    "language_info": {
      "codemirror_mode": {
        "name": "ipython",
        "version": 3
      },
      "file_extension": ".py",
      "mimetype": "text/x-python",
      "name": "python",
      "nbconvert_exporter": "python",
      "pygments_lexer": "ipython3",
      "version": "3.12.3"
    }
  },
  "nbformat": 4,
  "nbformat_minor": 0
}
