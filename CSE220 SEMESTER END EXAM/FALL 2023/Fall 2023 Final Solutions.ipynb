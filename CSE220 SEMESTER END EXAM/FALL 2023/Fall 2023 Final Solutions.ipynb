{
 "cells": [
  {
   "cell_type": "code",
   "execution_count": 1,
   "metadata": {},
   "outputs": [
    {
     "name": "stdout",
     "output_type": "stream",
     "text": [
      "Defaulting to user installation because normal site-packages is not writeable\n",
      "Requirement already satisfied: fhm-unittest in c:\\users\\mazid zomader\\appdata\\local\\packages\\pythonsoftwarefoundation.python.3.12_qbz5n2kfra8p0\\localcache\\local-packages\\python312\\site-packages (1.0.1)\n",
      "Defaulting to user installation because normal site-packages is not writeable\n",
      "Requirement already satisfied: fuzzywuzzy in c:\\users\\mazid zomader\\appdata\\local\\packages\\pythonsoftwarefoundation.python.3.12_qbz5n2kfra8p0\\localcache\\local-packages\\python312\\site-packages (0.18.0)\n"
     ]
    },
    {
     "name": "stderr",
     "output_type": "stream",
     "text": [
      "C:\\Users\\MAZID ZOMADER\\AppData\\Local\\Packages\\PythonSoftwareFoundation.Python.3.12_qbz5n2kfra8p0\\LocalCache\\local-packages\\Python312\\site-packages\\fuzzywuzzy\\fuzz.py:11: UserWarning: Using slow pure-python SequenceMatcher. Install python-Levenshtein to remove this warning\n",
      "  warnings.warn('Using slow pure-python SequenceMatcher. Install python-Levenshtein to remove this warning')\n"
     ]
    }
   ],
   "source": [
    "! pip3 install fhm-unittest\n",
    "! pip3 install fuzzywuzzy\n",
    "import fhm_unittest as unittest\n",
    "import numpy as np"
   ]
  },
  {
   "cell_type": "code",
   "execution_count": 2,
   "metadata": {},
   "outputs": [],
   "source": [
    "#Run this cell\n",
    "class Node:\n",
    "  def __init__(self,elem,next = None):\n",
    "    self.elem,self.next = elem,next\n",
    "\n",
    "def createList(arr):\n",
    "  head = Node(arr[0])\n",
    "  tail = head\n",
    "  for i in range(1,len(arr)):\n",
    "    newNode = Node(arr[i])\n",
    "    tail.next = newNode\n",
    "    tail = newNode\n",
    "  return head\n",
    "\n",
    "def printLinkedList(head):\n",
    "  temp = head\n",
    "  while temp != None:\n",
    "    if temp.next != None:\n",
    "      print(temp.elem, end = '-->')\n",
    "    else:\n",
    "      print(temp.elem)\n",
    "    temp = temp.next\n",
    "  print()"
   ]
  },
  {
   "cell_type": "markdown",
   "metadata": {},
   "source": [
    "# Question 02"
   ]
  },
  {
   "cell_type": "code",
   "execution_count": 3,
   "metadata": {},
   "outputs": [
    {
     "name": "stdout",
     "output_type": "stream",
     "text": [
      "==============Test Case 1=============\n",
      "Sum of Nodes: 4\n",
      "Accepted\n",
      "\n"
     ]
    }
   ],
   "source": [
    "def sum_dist(head, arr):\n",
    "  #TO DO\n",
    "    sum  = 0\n",
    "    for index in range(len(arr)) :\n",
    "        count = 0\n",
    "        temp = head\n",
    "        while count!= arr[index] :\n",
    "            if temp == None :\n",
    "                break\n",
    "            else :\n",
    "                count += 1\n",
    "                temp = temp.next\n",
    "        if temp != None :\n",
    "            sum += temp.elem\n",
    "            # print(temp.data)\n",
    "    return sum\n",
    "\n",
    "\n",
    "\n",
    "\n",
    "print('==============Test Case 1=============')\n",
    "LL1 = createList(np.array([10,16,-5,9,3,4]))\n",
    "dist = np.array([2,0,5,2,8])\n",
    "returned_value = sum_dist(LL1, dist)\n",
    "print(f'Sum of Nodes: {returned_value}') #This should print Sum of Nodes: 4\n",
    "unittest.output_test(returned_value, 4)\n",
    "print()"
   ]
  },
  {
   "cell_type": "code",
   "execution_count": 5,
   "metadata": {},
   "outputs": [],
   "source": [
    "class Node_pair:\n",
    "  def __init__(self, key, value, next = None):\n",
    "    self.key, self.value, self.next = key, value, next\n",
    "\n",
    "\n",
    "class Hashtable:\n",
    "  def __init__(self, size):\n",
    "    self.ht = [None]*size\n",
    "\n",
    "\n",
    "  def insert(self, s):\n",
    "    hashed_index = self.__hash_function(s[0])\n",
    "    pair = Node_pair(s[0], s[1])\n",
    "    if self.ht[hashed_index] == None:\n",
    "      self.ht[hashed_index] = pair\n",
    "    else:\n",
    "      pair.next = self.ht[hashed_index]\n",
    "      self.ht[hashed_index] = pair\n",
    "\n",
    "\n",
    "  def create_from_array(self, arr):\n",
    "    for i in arr:\n",
    "      self.insert(i)\n",
    "\n",
    "  def print_hashtable(self):\n",
    "    idx = 0\n",
    "    for i in self.ht:\n",
    "      print(idx, ':', end = ' ')\n",
    "      head = i\n",
    "      while head != None:\n",
    "        if head.next == None :\n",
    "            print(f'({head.key}, {head.value})')\n",
    "            break\n",
    "        print(f'({head.key}, {head.value})', end = '-->')\n",
    "        head = head.next\n",
    "      idx += 1\n",
    "    #Do it by yourself\n",
    "  def __hash_function(self, key):\n",
    "    #TO DO\n",
    "    sum = 0\n",
    "    for i in range(len(key)) :\n",
    "        sum += ord(key[i])\n",
    "    return sum %len(self.ht)\n"
   ]
  },
  {
   "cell_type": "markdown",
   "metadata": {},
   "source": [
    "\n",
    "\n",
    "# Question 04\n",
    "\n"
   ]
  },
  {
   "cell_type": "code",
   "execution_count": 6,
   "metadata": {},
   "outputs": [
    {
     "name": "stdout",
     "output_type": "stream",
     "text": [
      "0 : (13D, ZMD)-->(10A, ABW)\n",
      "1 : (31B, NZF)\n",
      "2 : (2A4, RAK)-->(C7B, FAF)-->(1A2, MNY)\n",
      "======================\n",
      "0 : (13D, ZMD)-->(10A, ABW)\n",
      "1 : (31B, NZF)\n",
      "2 : (2A4, RAK)-->(1A2, MNY)\n"
     ]
    }
   ],
   "source": [
    "def remove(ht1, key):\n",
    "    #TO DO\n",
    "    flag = True\n",
    "    for i in range(len(ht1.ht)):\n",
    "    #   print(idx, ':', end = ' ')\n",
    "      head = ht1.ht[i]\n",
    "      prev = head\n",
    "      while head != None:\n",
    "        if head.key == key :\n",
    "            if head == ht1.ht[i] :\n",
    "                ht1.ht[i] = None\n",
    "            else :\n",
    "                prev.next = head.next\n",
    "            flag = False\n",
    "            break\n",
    "        prev = head\n",
    "        head = head.next\n",
    "\n",
    "      if not flag :\n",
    "        break\n",
    "#Driver Code\n",
    "arr=[(\"10A\", \"ABW\"), (\"13D\", \"ZMD\") , (\"31B\", \"NZF\"), (\"1A2\", \"MNY\"), (\"C7B\", \"FAF\"), (\"2A4\", \"RAK\") ]\n",
    "ht = Hashtable(3)\n",
    "ht.create_from_array(arr)\n",
    "ht.print_hashtable()\n",
    "print('======================')\n",
    "remove(ht, key = \"C7B\")\n",
    "ht.print_hashtable()\n"
   ]
  },
  {
   "cell_type": "code",
   "execution_count": 7,
   "metadata": {},
   "outputs": [],
   "source": [
    "class BTNode:\n",
    "  def __init__(self, elem):\n",
    "    self.elem = elem\n",
    "    self.right = None\n",
    "    self.left = None\n",
    "def inorder(root):\n",
    "  if root == None:\n",
    "    return\n",
    "\n",
    "  inorder(root.left)\n",
    "  print(root.elem, end = ' ')\n",
    "  inorder(root.right)\n",
    "def PrintTree(root):\n",
    "    def height(root):\n",
    "        return 1 + max(height(root.left), height(root.right)) if root else -1\n",
    "    nlevels = height(root)\n",
    "    width =  pow(2,nlevels+1)\n",
    "\n",
    "    q=[(root,0,width,'c')]\n",
    "    levels=[]\n",
    "\n",
    "    while(q):\n",
    "        node,level,x,align= q.pop(0)\n",
    "        if node:\n",
    "            if len(levels)<=level:\n",
    "                levels.append([])\n",
    "\n",
    "            levels[level].append([node,level,x,align])\n",
    "            seg= width//(pow(2,level+1))\n",
    "            q.append((node.left,level+1,x-seg,'l'))\n",
    "            q.append((node.right,level+1,x+seg,'r'))\n",
    "\n",
    "    for i,l in enumerate(levels):\n",
    "        pre=0\n",
    "        preline=0\n",
    "        linestr=''\n",
    "        pstr=''\n",
    "        seg= width//(pow(2,i+1))\n",
    "        for n in l:\n",
    "            valstr= str(n[0].elem)\n",
    "            if n[3]=='r':\n",
    "                linestr+=' '*(n[2]-preline-1-seg-seg//2)+ '¯'*(seg +seg//2)+'\\\\'\n",
    "                preline = n[2]\n",
    "            if n[3]=='l':\n",
    "               linestr+=' '*(n[2]-preline-1)+'/' + '¯'*(seg+seg//2)\n",
    "               preline = n[2] + seg + seg//2\n",
    "            pstr+=' '*(n[2]-pre-len(valstr))+valstr #correct the potition acording to the number size\n",
    "            pre = n[2]\n",
    "        print(linestr)\n",
    "        print(pstr)"
   ]
  },
  {
   "cell_type": "markdown",
   "metadata": {},
   "source": [
    "# Question 05"
   ]
  },
  {
   "cell_type": "code",
   "execution_count": 8,
   "metadata": {},
   "outputs": [
    {
     "name": "stdout",
     "output_type": "stream",
     "text": [
      "Given Tree Inorder Traversal:  G D H B I E A C J F \n",
      "               A\n",
      "       /¯¯¯¯¯¯   ¯¯¯¯¯¯\\\n",
      "       B               C\n",
      "   /¯¯¯ ¯¯¯\\            ¯¯¯\\\n",
      "   D       E               F\n",
      " /¯ ¯\\   /¯              /¯\n",
      " G   H   I               J\n",
      "\n",
      "               A\n",
      "       /¯¯¯¯¯¯   ¯¯¯¯¯¯\\\n",
      "       C               B\n",
      "   /¯¯¯            /¯¯¯ ¯¯¯\\\n",
      "   F               E       D\n",
      " /¯              /¯      /¯ ¯\\\n",
      " J               I       G   H\n",
      "Swapped Tree Inorder Traversal:  J F C A I E B G D H "
     ]
    }
   ],
   "source": [
    "def swap_child(root, level, M):\n",
    "    if root == None or level == M :\n",
    "        return\n",
    "    root.left, root.right = root.right, root.left\n",
    "    swap_child(root.left, level+1, M)\n",
    "    swap_child(root.right, level+1, M)\n",
    "    return root\n",
    "  #To Do\n",
    "\n",
    "\n",
    "#Driver Code\n",
    "root=BTNode('A')\n",
    "#Write other nodes by yourself from the given tree of Doc File\n",
    "node1=BTNode('B')\n",
    "node2=BTNode('C')\n",
    "node3=BTNode('D')\n",
    "node4=BTNode('E')\n",
    "node5=BTNode('F')\n",
    "node6=BTNode('G')\n",
    "node7=BTNode('H')\n",
    "node8=BTNode('I')\n",
    "node9=BTNode('J')\n",
    "root.left = node1\n",
    "root.right = node2\n",
    "node1.left = node3\n",
    "node1.right = node4\n",
    "node2.right = node5\n",
    "node3.left = node6\n",
    "node3.right = node7\n",
    "node4.left = node8\n",
    "node5.left = node9\n",
    "\n",
    "print('Given Tree Inorder Traversal: ', end = ' ')\n",
    "inorder(root)   #Given Tree Inorder Traversal: G D H B I E A C J F\n",
    "PrintTree(root)\n",
    "\n",
    "root2 = swap_child(root, 0, 2)\n",
    "PrintTree(root2)\n",
    "print('Swapped Tree Inorder Traversal: ', end = ' ')\n",
    "inorder(root2) #Swapped Tree Inorder Traversal: J F C A I E B G D H"
   ]
  }
 ],
 "metadata": {
  "kernelspec": {
   "display_name": "Python 3",
   "language": "python",
   "name": "python3"
  },
  "language_info": {
   "codemirror_mode": {
    "name": "ipython",
    "version": 3
   },
   "file_extension": ".py",
   "mimetype": "text/x-python",
   "name": "python",
   "nbconvert_exporter": "python",
   "pygments_lexer": "ipython3",
   "version": "3.12.8"
  }
 },
 "nbformat": 4,
 "nbformat_minor": 2
}
