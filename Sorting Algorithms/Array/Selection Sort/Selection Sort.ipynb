{
 "cells": [
  {
   "cell_type": "code",
   "execution_count": 7,
   "metadata": {},
   "outputs": [
    {
     "name": "stdout",
     "output_type": "stream",
     "text": [
      "[1 2 3 4 5 6 7]\n"
     ]
    }
   ],
   "source": [
    "import numpy as np \n",
    "def SelectionSort(arr) :\n",
    "    for index in range(arr.size-1) :\n",
    "        min_index = index\n",
    "        temp = arr[min_index]\n",
    "        for index1 in range(index+1, arr.size) :\n",
    "            if arr[index1] < temp :\n",
    "                min_index = index1\n",
    "        arr[index] = arr[min_index]\n",
    "        arr[min_index] = temp\n",
    "    return arr\n",
    "a = np.array([2,3,1,5,7,6,4])\n",
    "print(SelectionSort(a))"
   ]
  }
 ],
 "metadata": {
  "kernelspec": {
   "display_name": "Python 3",
   "language": "python",
   "name": "python3"
  },
  "language_info": {
   "codemirror_mode": {
    "name": "ipython",
    "version": 3
   },
   "file_extension": ".py",
   "mimetype": "text/x-python",
   "name": "python",
   "nbconvert_exporter": "python",
   "pygments_lexer": "ipython3",
   "version": "3.12.7"
  }
 },
 "nbformat": 4,
 "nbformat_minor": 2
}
