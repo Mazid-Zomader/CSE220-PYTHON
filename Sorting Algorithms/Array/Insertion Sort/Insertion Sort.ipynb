{
 "cells": [
  {
   "cell_type": "code",
   "execution_count": 2,
   "metadata": {},
   "outputs": [
    {
     "name": "stdout",
     "output_type": "stream",
     "text": [
      "[1 2 3 4 5 6 7]\n"
     ]
    }
   ],
   "source": [
    "import numpy as np\n",
    "def InsertionSort(arr) :\n",
    "    for i in range(1, arr.size) :\n",
    "        temp = arr[i]\n",
    "        ii = i-1 \n",
    "        while ii>= 0  and arr[ii] > temp :\n",
    "            arr[ii + 1] = arr[ii]\n",
    "            ii -= 1\n",
    "        arr[ii+1] = temp\n",
    "    return arr\n",
    "a = np.array([ 2, 3, 1, 5, 7, 6, 4])\n",
    "print(InsertionSort(a))"
   ]
  }
 ],
 "metadata": {
  "kernelspec": {
   "display_name": "Python 3",
   "language": "python",
   "name": "python3"
  },
  "language_info": {
   "codemirror_mode": {
    "name": "ipython",
    "version": 3
   },
   "file_extension": ".py",
   "mimetype": "text/x-python",
   "name": "python",
   "nbconvert_exporter": "python",
   "pygments_lexer": "ipython3",
   "version": "3.12.7"
  }
 },
 "nbformat": 4,
 "nbformat_minor": 2
}
