{
 "cells": [
  {
   "cell_type": "code",
   "execution_count": 13,
   "metadata": {},
   "outputs": [
    {
     "name": "stdout",
     "output_type": "stream",
     "text": [
      "[1 2 3 4 5 6 7]\n"
     ]
    }
   ],
   "source": [
    "import numpy as np \n",
    "def BubbleSort(arr) :\n",
    "    for i in range(arr.size-1) :\n",
    "        for ii in range(arr.size-i-1) :\n",
    "            if arr[ii] > arr[ii+1] :\n",
    "                temp = arr[ii]\n",
    "                arr[ii] = arr[ii+1]\n",
    "                arr[ii+1] = temp\n",
    "    return arr \n",
    "a = np.array([ 2, 3, 1, 5, 7, 6, 4])\n",
    "print(BubbleSort(a))"
   ]
  }
 ],
 "metadata": {
  "kernelspec": {
   "display_name": "Python 3",
   "language": "python",
   "name": "python3"
  },
  "language_info": {
   "codemirror_mode": {
    "name": "ipython",
    "version": 3
   },
   "file_extension": ".py",
   "mimetype": "text/x-python",
   "name": "python",
   "nbconvert_exporter": "python",
   "pygments_lexer": "ipython3",
   "version": "3.12.7"
  }
 },
 "nbformat": 4,
 "nbformat_minor": 2
}
