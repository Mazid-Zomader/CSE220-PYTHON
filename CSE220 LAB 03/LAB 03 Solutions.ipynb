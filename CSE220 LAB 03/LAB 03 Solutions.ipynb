{
  "nbformat": 4,
  "nbformat_minor": 0,
  "metadata": {
    "colab": {
      "provenance": []
    },
    "kernelspec": {
      "name": "python3",
      "display_name": "Python 3"
    },
    "language_info": {
      "name": "python"
    }
  },
  "cells": [
    {
      "cell_type": "code",
      "execution_count": 1,
      "metadata": {
        "id": "Pp1R95Pe7ID2",
        "colab": {
          "base_uri": "https://localhost:8080/"
        },
        "outputId": "0ddc12fd-6d24-4b30-a472-1269b5f3e129"
      },
      "outputs": [
        {
          "output_type": "stream",
          "name": "stdout",
          "text": [
            "Collecting fhm-unittest\n",
            "  Downloading fhm_unittest-1.0.1-py3-none-any.whl.metadata (1.9 kB)\n",
            "Downloading fhm_unittest-1.0.1-py3-none-any.whl (2.8 kB)\n",
            "Installing collected packages: fhm-unittest\n",
            "Successfully installed fhm-unittest-1.0.1\n",
            "Collecting fuzzywuzzy\n",
            "  Downloading fuzzywuzzy-0.18.0-py2.py3-none-any.whl.metadata (4.9 kB)\n",
            "Downloading fuzzywuzzy-0.18.0-py2.py3-none-any.whl (18 kB)\n",
            "Installing collected packages: fuzzywuzzy\n",
            "Successfully installed fuzzywuzzy-0.18.0\n"
          ]
        },
        {
          "output_type": "stream",
          "name": "stderr",
          "text": [
            "/usr/local/lib/python3.10/dist-packages/fuzzywuzzy/fuzz.py:11: UserWarning: Using slow pure-python SequenceMatcher. Install python-Levenshtein to remove this warning\n",
            "  warnings.warn('Using slow pure-python SequenceMatcher. Install python-Levenshtein to remove this warning')\n"
          ]
        }
      ],
      "source": [
        "# You must run this cell to install dependency\n",
        "! pip3 install fhm-unittest\n",
        "! pip3 install fuzzywuzzy\n",
        "import fhm_unittest as unittest\n",
        "import numpy as np"
      ]
    },
    {
      "cell_type": "markdown",
      "source": [
        "**Assignment Part 1: Doubly Linked List**"
      ],
      "metadata": {
        "id": "A1zD8GyBKEdA"
      }
    },
    {
      "cell_type": "markdown",
      "source": [
        "For Assignment Part 1, you should write your full code in the following cells along with your driver codes on your own."
      ],
      "metadata": {
        "id": "z4q4a-vSNoII"
      }
    },
    {
      "cell_type": "code",
      "source": [
        "#Assignment Part 1\n",
        "\n",
        "class Patient:\n",
        "  #write a constructor\n",
        "  def __init__(self, id, name, age, blood, next = None, prev = None ) :\n",
        "    self.id = id\n",
        "    self.name = name\n",
        "    self.age = age\n",
        "    self.bgroup = blood\n",
        "    self.head = None\n",
        "    self.prev = prev\n",
        "    self.next = next\n"
      ],
      "metadata": {
        "id": "itoWpG7oNziA"
      },
      "execution_count": 2,
      "outputs": []
    },
    {
      "cell_type": "code",
      "source": [
        "class WRM:\n",
        "  #write a constructor\n",
        "  def __init__(self ):\n",
        "    self.head=Patient(None,None,None,None,None,None)\n",
        "    self.head.next=self.head\n",
        "    self.head.prev=self.head\n",
        "\n",
        "  def registerPatient(self,id, name, age, bloodgroup):\n",
        "    #To Do\n",
        "    new = Patient(id, name, age, bloodgroup)\n",
        "    self.head.prev.next = new\n",
        "    new.prev = self.head.prev\n",
        "    new.next = self.head\n",
        "    self.head.prev = new\n",
        "  def servePatient(self):\n",
        "    #To Do\n",
        "    serve = self.head.next\n",
        "    print(f\"{serve.name} is served\")\n",
        "    self.head.next = serve.next\n",
        "    serve.next.prev = self.head\n",
        "  def showAllPatient(self):\n",
        "    #To Do\n",
        "    current = self.head.next\n",
        "    while current != self.head :\n",
        "        print(f\"ID: {current.id}\\nName: {current.name}\\nAge: {current.age}\\nBlood Group: {current.bgroup}\\n============================\")\n",
        "        current = current.next\n",
        "  def canDoctorGoHome(self):\n",
        "    #To Do\n",
        "    if self.head.next == self.head and self.head.prev == self.head :\n",
        "        return True\n",
        "    return False\n",
        "  def cancelAll(self):\n",
        "    #To Do\n",
        "    self.head.next = self.head\n",
        "    self.head.prev = self.head\n",
        "    print(\"All Patient Cancenlled\")\n",
        "  def ReverseTheLine(self):\n",
        "    #To Do\n",
        "    current = self.head\n",
        "    while True:\n",
        "        current.next, current.prev = current.prev, current.next\n",
        "        current = current.prev\n",
        "        if current == self.head:\n",
        "            break\n"
      ],
      "metadata": {
        "id": "dNx7zTJ1OZNv"
      },
      "execution_count": 3,
      "outputs": []
    },
    {
      "cell_type": "code",
      "source": [
        "#Write a Tester Code in this cell\n",
        "print(\"**Welcome to Waiting Room Management System**\")\n",
        "wrm = WRM()\n",
        "while True :\n",
        "    print(\"**Choose an Option**\")\n",
        "    print(\"1. RegisterPatient()\\n2. ServePatient()\\n3. CancelAll()\\n4. CanDoctorGoHome()\\n5. ShowAllPatient()\\n6. Exit\\n=======================\")\n",
        "    x = int(input(\"Enter your choice: \"))\n",
        "    if x == 1 :\n",
        "        print(\"Executing registering Patient...\")\n",
        "        id = int(input(\"Enter ID: \"))\n",
        "        name = input(\"Enter Name: \")\n",
        "        age = int(input(\"Enter age: \"))\n",
        "        bgrp = input(\"Enter Blood Group: \")\n",
        "        print(\"Successfully registering Patient...\")\n",
        "        print(\"Successful\")\n",
        "        wrm.registerPatient(id, name, age, bgrp)\n",
        "    elif x == 2 :\n",
        "        wrm.servePatient()\n",
        "    elif x == 3 :\n",
        "        wrm.cancelAll()\n",
        "    elif x == 4 :\n",
        "        if wrm.canDoctorGoHome() :\n",
        "            print(\"Yess!! Doctor can go home.\")\n",
        "        else :\n",
        "            print(\"No. There are patient(s) in line\")\n",
        "    elif x == 5 :\n",
        "        print(\"Showing Patient(s) info\")\n",
        "        wrm.showAllPatient()\n",
        "    else :\n",
        "        break\n"
      ],
      "metadata": {
        "id": "jKhbn1LAPfjr",
        "colab": {
          "base_uri": "https://localhost:8080/"
        },
        "outputId": "ec505c68-d71c-40ff-bfb9-76bd8716a807"
      },
      "execution_count": 4,
      "outputs": [
        {
          "name": "stdout",
          "output_type": "stream",
          "text": [
            "**Welcome to Waiting Room Management System**\n",
            "**Choose an Option**\n",
            "1. RegisterPatient()\n",
            "2. ServePatient()\n",
            "3. CancelAll()\n",
            "4. CanDoctorGoHome()\n",
            "5. ShowAllPatient()\n",
            "6. Exit\n",
            "=======================\n",
            "Enter your choice: 1\n",
            "Executing registering Patient...\n",
            "Enter ID: 101\n",
            "Enter Name: Abdullah\n",
            "Enter age: 23\n",
            "Enter Blood Group: A+\n",
            "Successfully registering Patient...\n",
            "Successful\n",
            "**Choose an Option**\n",
            "1. RegisterPatient()\n",
            "2. ServePatient()\n",
            "3. CancelAll()\n",
            "4. CanDoctorGoHome()\n",
            "5. ShowAllPatient()\n",
            "6. Exit\n",
            "=======================\n",
            "Enter your choice: 1\n",
            "Executing registering Patient...\n",
            "Enter ID: 102\n",
            "Enter Name: Al\n",
            "Enter age: 22\n",
            "Enter Blood Group: B+\n",
            "Successfully registering Patient...\n",
            "Successful\n",
            "**Choose an Option**\n",
            "1. RegisterPatient()\n",
            "2. ServePatient()\n",
            "3. CancelAll()\n",
            "4. CanDoctorGoHome()\n",
            "5. ShowAllPatient()\n",
            "6. Exit\n",
            "=======================\n",
            "Enter your choice: 1\n",
            "Executing registering Patient...\n",
            "Enter ID: 103\n",
            "Enter Name: Mazid\n",
            "Enter age: 21\n",
            "Enter Blood Group: O+\n",
            "Successfully registering Patient...\n",
            "Successful\n",
            "**Choose an Option**\n",
            "1. RegisterPatient()\n",
            "2. ServePatient()\n",
            "3. CancelAll()\n",
            "4. CanDoctorGoHome()\n",
            "5. ShowAllPatient()\n",
            "6. Exit\n",
            "=======================\n",
            "Enter your choice: 1\n",
            "Executing registering Patient...\n",
            "Enter ID: 104\n",
            "Enter Name: Zomader\n",
            "Enter age: 20\n",
            "Enter Blood Group: AB+\n",
            "Successfully registering Patient...\n",
            "Successful\n",
            "**Choose an Option**\n",
            "1. RegisterPatient()\n",
            "2. ServePatient()\n",
            "3. CancelAll()\n",
            "4. CanDoctorGoHome()\n",
            "5. ShowAllPatient()\n",
            "6. Exit\n",
            "=======================\n",
            "Enter your choice: 2\n",
            "Abdullah is served\n",
            "**Choose an Option**\n",
            "1. RegisterPatient()\n",
            "2. ServePatient()\n",
            "3. CancelAll()\n",
            "4. CanDoctorGoHome()\n",
            "5. ShowAllPatient()\n",
            "6. Exit\n",
            "=======================\n",
            "Enter your choice: 2\n",
            "Al is served\n",
            "**Choose an Option**\n",
            "1. RegisterPatient()\n",
            "2. ServePatient()\n",
            "3. CancelAll()\n",
            "4. CanDoctorGoHome()\n",
            "5. ShowAllPatient()\n",
            "6. Exit\n",
            "=======================\n",
            "Enter your choice: 5\n",
            "Showing Patient(s) info\n",
            "ID: 103\n",
            "Name: Mazid\n",
            "Age: 21\n",
            "Blood Group: O+\n",
            "============================\n",
            "ID: 104\n",
            "Name: Zomader\n",
            "Age: 20\n",
            "Blood Group: AB+\n",
            "============================\n",
            "**Choose an Option**\n",
            "1. RegisterPatient()\n",
            "2. ServePatient()\n",
            "3. CancelAll()\n",
            "4. CanDoctorGoHome()\n",
            "5. ShowAllPatient()\n",
            "6. Exit\n",
            "=======================\n",
            "Enter your choice: 4\n",
            "No. There are patient(s) in line\n",
            "**Choose an Option**\n",
            "1. RegisterPatient()\n",
            "2. ServePatient()\n",
            "3. CancelAll()\n",
            "4. CanDoctorGoHome()\n",
            "5. ShowAllPatient()\n",
            "6. Exit\n",
            "=======================\n",
            "Enter your choice: 3\n",
            "All Patient Cancenlled\n",
            "**Choose an Option**\n",
            "1. RegisterPatient()\n",
            "2. ServePatient()\n",
            "3. CancelAll()\n",
            "4. CanDoctorGoHome()\n",
            "5. ShowAllPatient()\n",
            "6. Exit\n",
            "=======================\n",
            "Enter your choice: 4\n",
            "Yess!! Doctor can go home.\n",
            "**Choose an Option**\n",
            "1. RegisterPatient()\n",
            "2. ServePatient()\n",
            "3. CancelAll()\n",
            "4. CanDoctorGoHome()\n",
            "5. ShowAllPatient()\n",
            "6. Exit\n",
            "=======================\n",
            "Enter your choice: 6\n"
          ]
        }
      ]
    },
    {
      "cell_type": "markdown",
      "source": [
        "**Assignment Part 2: Stack**\n",
        "\n",
        "Linked List based Stack is implemented in the following cell."
      ],
      "metadata": {
        "id": "CJWd_j6YEnPn"
      }
    },
    {
      "cell_type": "code",
      "source": [
        "class Node:\n",
        "  def __init__(self,elem=None,next=None):\n",
        "    self.elem = elem\n",
        "    self.next = next\n",
        "\n",
        "class Stack:\n",
        "  def __init__(self):\n",
        "    self.__top = None\n",
        "\n",
        "  def push(self,elem):\n",
        "    nn = Node(elem,self.__top)\n",
        "    self.__top = nn\n",
        "\n",
        "  def pop(self):\n",
        "    if self.__top == None:\n",
        "      #print('Stack Underflow')\n",
        "      return None\n",
        "    e = self.__top\n",
        "    self.__top = self.__top.next\n",
        "    return e.elem\n",
        "\n",
        "  def peek(self):\n",
        "    if self.__top == None:\n",
        "      #print('Stack Underflow')\n",
        "      return None\n",
        "    return self.__top.elem\n",
        "\n",
        "  def isEmpty(self):\n",
        "    return self.__top == None\n"
      ],
      "metadata": {
        "id": "KHLhs5x0D-O6"
      },
      "execution_count": 5,
      "outputs": []
    },
    {
      "cell_type": "code",
      "source": [
        "#You can run this driver code cell to understand the methods of Stack class\n",
        "st = Stack()\n",
        "st.push(4)\n",
        "st.push(3)\n",
        "st.push(5)\n",
        "st.push(1)\n",
        "st.push(9)\n",
        "\n",
        "print('Peeked Element: ',st.peek())\n",
        "print('Popped Element: ',st.pop())\n",
        "print('Popped Element: ',st.pop())\n",
        "print('Popped Element: ',st.pop())\n",
        "print('Peeked Element: ',st.peek())\n",
        "print('Popped Element: ',st.pop())\n",
        "print('Popped Element: ',st.pop())\n",
        "print('Peeked Element: ',st.peek())\n",
        "print('Popped Element: ',st.pop())\n",
        "print(st.isEmpty())"
      ],
      "metadata": {
        "id": "4XkuMA7gEjE7",
        "colab": {
          "base_uri": "https://localhost:8080/"
        },
        "outputId": "72a8ff9b-3ebe-41df-a030-99da2b2df173"
      },
      "execution_count": 6,
      "outputs": [
        {
          "output_type": "stream",
          "name": "stdout",
          "text": [
            "Peeked Element:  9\n",
            "Popped Element:  9\n",
            "Popped Element:  1\n",
            "Popped Element:  5\n",
            "Peeked Element:  3\n",
            "Popped Element:  3\n",
            "Popped Element:  4\n",
            "Peeked Element:  None\n",
            "Popped Element:  None\n",
            "True\n"
          ]
        }
      ]
    },
    {
      "cell_type": "markdown",
      "source": [
        "You can print your stack using this code segment"
      ],
      "metadata": {
        "id": "xrfONLccG9Gi"
      }
    },
    {
      "cell_type": "code",
      "source": [
        "def print_stack(st):\n",
        "  if st.isEmpty():\n",
        "    return\n",
        "  p = st.pop()\n",
        "  print('|',p,end=' ')\n",
        "  if p<10:\n",
        "    print(' |')\n",
        "  else:\n",
        "    print('|')\n",
        "  #print('------')\n",
        "  print_stack(st)\n",
        "  st.push(p)\n",
        "\n",
        "# st = Stack()\n",
        "# st.push(4)\n",
        "# st.push(3)\n",
        "# st.push(5)\n",
        "# st.push(1)\n",
        "# st.push(9)\n",
        "# print_stack(st)\n",
        "# print('------')"
      ],
      "metadata": {
        "id": "S-EembO_GsWA"
      },
      "execution_count": 7,
      "outputs": []
    },
    {
      "cell_type": "markdown",
      "source": [
        "Task 1: Diamond Count"
      ],
      "metadata": {
        "id": "iNMnfqqpIga2"
      }
    },
    {
      "cell_type": "code",
      "source": [
        "def diamond_count(stack,string):\n",
        "  #TO DO\n",
        "  count = 0\n",
        "  for i in range(len(string)) :\n",
        "    if string[i] == \"<\" :\n",
        "        stack.push(string[i])\n",
        "    elif string[i] == \">\" :\n",
        "        if stack.isEmpty() :\n",
        "            pass\n",
        "        else :\n",
        "            stack.pop()\n",
        "            count += 1\n",
        "  return count\n",
        "\n",
        "\n",
        "\n",
        "print('Test 01')\n",
        "stack = Stack()\n",
        "string = '<..><.<..>> '\n",
        "returned_value = diamond_count(stack,string)\n",
        "print(f'Number of Diamonds: {returned_value}') #This should print 3\n",
        "unittest.output_test(returned_value, 3)\n",
        "print('-----------------------------------------')\n",
        "\n",
        "\n",
        "print('Test 02')\n",
        "stack = Stack()\n",
        "string = '<<<..<......<<<<....>'\n",
        "returned_value = diamond_count(stack,string)\n",
        "print(f'Number of Diamonds: {returned_value}') #This should print 1\n",
        "unittest.output_test(returned_value, 1)\n",
        "print('-----------------------------------------')\n",
        "\n",
        "\n",
        "print('Test 03')\n",
        "stack = Stack()\n",
        "string = '>>><...<<..>>...>...>>>'\n",
        "returned_value = diamond_count(stack,string)\n",
        "print(f'Number of Diamonds: {returned_value}') #This should print 3\n",
        "unittest.output_test(returned_value, 3)\n",
        "print('-----------------------------------------')\n",
        "\n",
        "\n",
        "print('Test 04')\n",
        "stack = Stack()\n",
        "string = '>>><...<<..>>...>...>>>'\n",
        "returned_value = diamond_count(stack,string)\n",
        "print(f'Number of Diamonds: {returned_value}') #This should print 3\n",
        "unittest.output_test(returned_value, 3)\n",
        "print('-----------------------------------------')"
      ],
      "metadata": {
        "id": "GnX70OIvG_gZ",
        "colab": {
          "base_uri": "https://localhost:8080/"
        },
        "outputId": "aaa491b2-638b-4e5a-f8e2-61f0d81fa5b2"
      },
      "execution_count": 8,
      "outputs": [
        {
          "output_type": "stream",
          "name": "stdout",
          "text": [
            "Test 01\n",
            "Number of Diamonds: 3\n",
            "Accepted\n",
            "-----------------------------------------\n",
            "Test 02\n",
            "Number of Diamonds: 1\n",
            "Accepted\n",
            "-----------------------------------------\n",
            "Test 03\n",
            "Number of Diamonds: 3\n",
            "Accepted\n",
            "-----------------------------------------\n",
            "Test 04\n",
            "Number of Diamonds: 3\n",
            "Accepted\n",
            "-----------------------------------------\n"
          ]
        }
      ]
    },
    {
      "cell_type": "markdown",
      "source": [
        "Task 2: Tower of Blocks"
      ],
      "metadata": {
        "id": "PhCF3SZ6IX5g"
      }
    },
    {
      "cell_type": "code",
      "source": [
        "def remove_block(stack, n):\n",
        "  #TO DO\n",
        "    temp = Stack()\n",
        "    count = 1\n",
        "    while count < n :\n",
        "        stack.push(stack.pop())\n",
        "        count += 1\n",
        "    stack.pop()\n",
        "    while (not temp.isEmpty()) :\n",
        "        stack.push(temp.pop())\n",
        "    # stack.display()\n",
        "\n",
        "\n",
        "print('Test 01')\n",
        "st = Stack()\n",
        "st.push(4)\n",
        "st.push(19)\n",
        "st.push(23)\n",
        "st.push(17)\n",
        "st.push(5)\n",
        "print('Stack:')\n",
        "print_stack(st)\n",
        "print('------')\n",
        "remove_block(st,2)\n",
        "print('After Removal')\n",
        "print_stack(st)\n",
        "print('------')\n",
        "\n",
        "print()\n",
        "print('======================================')\n",
        "print()\n",
        "\n",
        "print('Test 02')\n",
        "st = Stack()\n",
        "st.push(73)\n",
        "st.push(85)\n",
        "st.push(15)\n",
        "st.push(41)\n",
        "print('Stack:')\n",
        "print_stack(st)\n",
        "print('------')\n",
        "remove_block(st,3)\n",
        "print('After Removal')\n",
        "print_stack(st)\n",
        "print('------')\n",
        "\n",
        "print()\n",
        "print('======================================')\n",
        "print()"
      ],
      "metadata": {
        "id": "W3N4q7YAHExr",
        "colab": {
          "base_uri": "https://localhost:8080/"
        },
        "outputId": "9eda744d-e81b-4348-c260-1a24fd632a11"
      },
      "execution_count": 9,
      "outputs": [
        {
          "output_type": "stream",
          "name": "stdout",
          "text": [
            "Test 01\n",
            "Stack:\n",
            "| 5  |\n",
            "| 17 |\n",
            "| 23 |\n",
            "| 19 |\n",
            "| 4  |\n",
            "------\n",
            "After Removal\n",
            "| 17 |\n",
            "| 23 |\n",
            "| 19 |\n",
            "| 4  |\n",
            "------\n",
            "\n",
            "======================================\n",
            "\n",
            "Test 02\n",
            "Stack:\n",
            "| 41 |\n",
            "| 15 |\n",
            "| 85 |\n",
            "| 73 |\n",
            "------\n",
            "After Removal\n",
            "| 15 |\n",
            "| 85 |\n",
            "| 73 |\n",
            "------\n",
            "\n",
            "======================================\n",
            "\n"
          ]
        }
      ]
    },
    {
      "cell_type": "markdown",
      "source": [
        "Task 3: Stack Reverse"
      ],
      "metadata": {
        "id": "jcngRuqUWOfl"
      }
    },
    {
      "cell_type": "code",
      "source": [
        "def conditional_reverse(stack):\n",
        "  #To Do\n",
        "    reverse = Stack()\n",
        "    while(not stack.isEmpty()):\n",
        "        if (stack.peek() != reverse.peek()):\n",
        "            reverse.push(stack.peek())\n",
        "        stack.pop()\n",
        "    return reverse\n",
        "\n",
        "print('Test 01')\n",
        "st=Stack()\n",
        "st.push(10)\n",
        "st.push(10)\n",
        "st.push(20)\n",
        "st.push(20)\n",
        "st.push(30)\n",
        "st.push(10)\n",
        "st.push(50)\n",
        "print('Stack:')\n",
        "print_stack(st)\n",
        "print('------')\n",
        "reversed_stack=conditional_reverse(st)\n",
        "print('Conditional Reversed Stack:')\n",
        "print_stack(reversed_stack) # This stack contains 50, 10, 30, 20, 10 in this order whereas top element should be 10\n",
        "print('------')"
      ],
      "metadata": {
        "id": "gLSgfDKPWPnP",
        "colab": {
          "base_uri": "https://localhost:8080/"
        },
        "outputId": "fe6fb881-4a33-4be4-d6f5-f6639359f26e"
      },
      "execution_count": 10,
      "outputs": [
        {
          "output_type": "stream",
          "name": "stdout",
          "text": [
            "Test 01\n",
            "Stack:\n",
            "| 50 |\n",
            "| 10 |\n",
            "| 30 |\n",
            "| 20 |\n",
            "| 20 |\n",
            "| 10 |\n",
            "| 10 |\n",
            "------\n",
            "Conditional Reversed Stack:\n",
            "| 10 |\n",
            "| 20 |\n",
            "| 30 |\n",
            "| 10 |\n",
            "| 50 |\n",
            "------\n"
          ]
        }
      ]
    }
  ]
}